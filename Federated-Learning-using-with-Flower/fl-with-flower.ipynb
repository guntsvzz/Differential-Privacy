{
 "cells": [
  {
   "cell_type": "markdown",
   "metadata": {
    "id": "ESpKTVP3F_Xt"
   },
   "source": [
    "# Federated Learning using Hugging Face and Flower\n",
    "\n",
    "This tutorial will show how to leverage Hugging Face to federate the training of language models over multiple clients using [Flower](https://flower.dev/). More specifically, we will fine-tune a pre-trained Transformer model (alBERT) for sequence classification over a dataset of IMDB ratings. The end goal is to detect if a movie rating is positive or negative.\n",
    "\n",
    "reference : https://huggingface.co/blog/fl-with-flower"
   ]
  },
  {
   "cell_type": "code",
   "execution_count": 1,
   "metadata": {},
   "outputs": [],
   "source": [
    "#comment this if you are not using AIT proxy...\n",
    "import os\n",
    "os.environ['http_proxy']  = 'http://192.41.170.23:3128'\n",
    "os.environ['https_proxy'] = 'http://192.41.170.23:3128'"
   ]
  },
  {
   "cell_type": "markdown",
   "metadata": {
    "id": "hcUWBC4ih-mp"
   },
   "source": [
    "## Dependencies\n",
    "\n",
    "For this tutorial we will need `datasets`, `flwr['simulation']`(here we use the extra 'simulation' dependencies from Flower as we will simulated the federated setting inside Google Colab), `torch`, and `transformers`."
   ]
  },
  {
   "cell_type": "code",
   "execution_count": 2,
   "metadata": {
    "id": "zBuj5kSif2yt"
   },
   "outputs": [],
   "source": [
    "# !pip install datasets evaluate flwr[\"simulation\"] torch transformers"
   ]
  },
  {
   "cell_type": "markdown",
   "metadata": {
    "id": "Q5I0ZUC4hpua"
   },
   "source": [
    "We can now import the relevant modules."
   ]
  },
  {
   "cell_type": "code",
   "execution_count": 3,
   "metadata": {
    "id": "IhNwuY-Oefau"
   },
   "outputs": [],
   "source": [
    "from collections import OrderedDict\n",
    "import os\n",
    "import random\n",
    "import warnings\n",
    "\n",
    "import flwr as fl\n",
    "import torch\n",
    "\n",
    "from torch.utils.data import DataLoader\n",
    "\n",
    "from datasets import load_dataset\n",
    "from evaluate import load as load_metric\n",
    "\n",
    "from transformers import AutoTokenizer, DataCollatorWithPadding\n",
    "from transformers import AutoModelForSequenceClassification\n",
    "from transformers import AdamW\n",
    "from transformers import logging"
   ]
  },
  {
   "cell_type": "markdown",
   "metadata": {
    "id": "J-gZqELEhsun"
   },
   "source": [
    "Next we will set some global variables and disable some of the logging to clear out our output."
   ]
  },
  {
   "cell_type": "code",
   "execution_count": 4,
   "metadata": {
    "id": "AH0Sx53Rehjc"
   },
   "outputs": [],
   "source": [
    "warnings.filterwarnings(\"ignore\", category=UserWarning)\n",
    "warnings.filterwarnings(\"ignore\", category=DeprecationWarning)\n",
    "logging.set_verbosity(logging.ERROR)\n",
    "os.environ['TF_CPP_MIN_LOG_LEVEL'] = '2'\n",
    "warnings.simplefilter('ignore')\n",
    "\n",
    "DEVICE = torch.device(\"cpu\")\n",
    "CHECKPOINT = \"albert-base-v2\"  # transformer model checkpoint\n",
    "NUM_CLIENTS = 2\n",
    "NUM_ROUNDS = 3"
   ]
  },
  {
   "cell_type": "markdown",
   "metadata": {
    "id": "aI21VQX-GRSb"
   },
   "source": [
    "## Standard Hugging Face workflow\n",
    "\n",
    "### Handling the data\n",
    "\n",
    "To fetch the IMDB dataset, we will use Hugging Face's `datasets` library. We then need to tokenize the data and create `PyTorch` dataloaders, this is all done in the `load_data` function:"
   ]
  },
  {
   "cell_type": "code",
   "execution_count": 5,
   "metadata": {
    "id": "06-OMJtvekAB"
   },
   "outputs": [],
   "source": [
    "def load_data():\n",
    "    \"\"\"Load IMDB data (training and eval)\"\"\"\n",
    "    raw_datasets = load_dataset(\"imdb\")\n",
    "    raw_datasets = raw_datasets.shuffle(seed=42)\n",
    "\n",
    "    # remove unnecessary data split\n",
    "    del raw_datasets[\"unsupervised\"]\n",
    "\n",
    "    tokenizer = AutoTokenizer.from_pretrained(CHECKPOINT)\n",
    "\n",
    "    def tokenize_function(examples):\n",
    "        return tokenizer(examples[\"text\"], truncation=True)\n",
    "\n",
    "    # Select 20 random samples to reduce the computation cost\n",
    "    train_population = random.sample(range(len(raw_datasets[\"train\"])), 20)\n",
    "    test_population = random.sample(range(len(raw_datasets[\"test\"])), 20)\n",
    "\n",
    "    tokenized_datasets = raw_datasets.map(tokenize_function, batched=True)\n",
    "    tokenized_datasets[\"train\"] = tokenized_datasets[\"train\"].select(train_population)\n",
    "    tokenized_datasets[\"test\"] = tokenized_datasets[\"test\"].select(test_population)\n",
    "\n",
    "    tokenized_datasets = tokenized_datasets.remove_columns(\"text\")\n",
    "    tokenized_datasets = tokenized_datasets.rename_column(\"label\", \"labels\")\n",
    "\n",
    "    data_collator = DataCollatorWithPadding(tokenizer=tokenizer)\n",
    "    trainloader = DataLoader(\n",
    "        tokenized_datasets[\"train\"],\n",
    "        shuffle=True,\n",
    "        batch_size=32,\n",
    "        collate_fn=data_collator,\n",
    "    )\n",
    "\n",
    "    testloader = DataLoader(\n",
    "        tokenized_datasets[\"test\"], batch_size=32, collate_fn=data_collator\n",
    "    )\n",
    "\n",
    "    return trainloader, testloader"
   ]
  },
  {
   "cell_type": "markdown",
   "metadata": {
    "id": "s1UtfzMFGVKF"
   },
   "source": [
    "### Training and testing the model\n",
    "\n",
    "Once we have a way of creating our trainloader and testloader, we can take care of the training and testing. This is very similar to any `PyTorch` training or testing loop:"
   ]
  },
  {
   "cell_type": "code",
   "execution_count": 6,
   "metadata": {
    "id": "szd1PmUbem1v"
   },
   "outputs": [],
   "source": [
    "def train(net, trainloader, epochs):\n",
    "    optimizer = AdamW(net.parameters(), lr=5e-5)\n",
    "    net.train()\n",
    "    for _ in range(epochs):\n",
    "        for batch in trainloader:\n",
    "            batch = {k: v.to(DEVICE) for k, v in batch.items()}\n",
    "            outputs = net(**batch)\n",
    "            loss = outputs.loss\n",
    "            loss.backward()\n",
    "            optimizer.step()\n",
    "            optimizer.zero_grad()\n",
    "\n",
    "\n",
    "def test(net, testloader):\n",
    "    metric = load_metric(\"accuracy\")\n",
    "    loss = 0\n",
    "    net.eval()\n",
    "    for batch in testloader:\n",
    "        batch = {k: v.to(DEVICE) for k, v in batch.items()}\n",
    "        with torch.no_grad():\n",
    "            outputs = net(**batch)\n",
    "        logits = outputs.logits\n",
    "        loss += outputs.loss.item()\n",
    "        predictions = torch.argmax(logits, dim=-1)\n",
    "        metric.add_batch(predictions=predictions, references=batch[\"labels\"])\n",
    "    loss /= len(testloader.dataset)\n",
    "    accuracy = metric.compute()[\"accuracy\"]\n",
    "    return loss, accuracy"
   ]
  },
  {
   "cell_type": "markdown",
   "metadata": {
    "id": "rVbWtgQLGhFB"
   },
   "source": [
    "### Creating the model itself\n",
    "\n",
    "To create the model itself, we will just load the pre-trained alBERT model using Hugging Face’s `AutoModelForSequenceClassification` :"
   ]
  },
  {
   "cell_type": "code",
   "execution_count": 7,
   "metadata": {
    "id": "qeiueaYKGiBf"
   },
   "outputs": [],
   "source": [
    "net = AutoModelForSequenceClassification.from_pretrained(\n",
    "    CHECKPOINT, num_labels=2\n",
    ").to(DEVICE)"
   ]
  },
  {
   "cell_type": "markdown",
   "metadata": {
    "id": "Mx95k0TUGtSG"
   },
   "source": [
    "## Federating the example\n",
    "\n",
    "The idea behind Federated Learning is to train a model between multiple clients and a server without having to share any data. This is done by letting each client train the model locally on its data and send its parameters back to the server, which then aggregates all the clients’ parameters together using a predefined strategy. This process is made very simple by using the [Flower](https://github.com/adap/flower) framework. If you want a more complete overview, be sure to check out this guide: [What is Federated Learning?](https://flower.dev/docs/tutorial/Flower-0-What-is-FL.html)\n",
    "\n",
    "### Creating the IMDBClient\n",
    "\n",
    "To federate our example to multiple clients, we first need to write our Flower client class (inheriting from `flwr.client.NumPyClient`). This is very easy, as our model is a standard `PyTorch` model:"
   ]
  },
  {
   "cell_type": "code",
   "execution_count": 8,
   "metadata": {
    "id": "-sSuLWYzeuPC"
   },
   "outputs": [],
   "source": [
    "class IMDBClient(fl.client.NumPyClient):\n",
    "    def __init__(self, net, trainloader, testloader):\n",
    "        self.net = net\n",
    "        self.trainloader = trainloader\n",
    "        self.testloader = testloader\n",
    "\n",
    "    def get_parameters(self, config):\n",
    "        return [val.cpu().numpy() for _, val in self.net.state_dict().items()]\n",
    "\n",
    "    def set_parameters(self, parameters):\n",
    "        params_dict = zip(self.net.state_dict().keys(), parameters)\n",
    "        state_dict = OrderedDict({k: torch.Tensor(v) for k, v in params_dict})\n",
    "        self.net.load_state_dict(state_dict, strict=True)\n",
    "\n",
    "    def fit(self, parameters, config):\n",
    "        self.set_parameters(parameters)\n",
    "        print(\"Training Started...\")\n",
    "        train(self.net, self.trainloader, epochs=1)\n",
    "        print(\"Training Finished.\")\n",
    "        return self.get_parameters(config={}), len(self.trainloader), {}\n",
    "\n",
    "    def evaluate(self, parameters, config):\n",
    "        self.set_parameters(parameters)\n",
    "        loss, accuracy = test(self.net, self.testloader)\n",
    "        return float(loss), len(self.testloader), {\"accuracy\": float(accuracy), \"loss\": float(loss)}"
   ]
  },
  {
   "cell_type": "markdown",
   "metadata": {
    "id": "PTdzUBpkG3jE"
   },
   "source": [
    "The `get_parameters` function lets the server get the client's parameters. Inversely, the `set_parameters` function allows the server to send its parameters to the client. Finally, the `fit` function trains the model locally for the client, and the `evaluate` function tests the model locally and returns the relevant metrics."
   ]
  },
  {
   "cell_type": "markdown",
   "metadata": {
    "id": "kZDZ3KUaGapq"
   },
   "source": [
    "### Generating the clients\n",
    "\n",
    "In order to simulate the federated setting we need to provide a way to instantiate clients for our simulation. Here, it is very simple as every client will hold the same piece of data (this is not realistic, it is just used here for simplicity sakes)."
   ]
  },
  {
   "cell_type": "code",
   "execution_count": 9,
   "metadata": {
    "id": "y9A11kmafSwX"
   },
   "outputs": [
    {
     "name": "stderr",
     "output_type": "stream",
     "text": [
      "Found cached dataset imdb (/home/todsavadt/.cache/huggingface/datasets/imdb/plain_text/1.0.0/d613c88cf8fa3bab83b4ded3713f1f74830d1100e171db75bbddb80b3345c9c0)\n"
     ]
    },
    {
     "data": {
      "application/vnd.jupyter.widget-view+json": {
       "model_id": "c1e07f7ca24041848db8fdbe5f273dbb",
       "version_major": 2,
       "version_minor": 0
      },
      "text/plain": [
       "  0%|          | 0/3 [00:00<?, ?it/s]"
      ]
     },
     "metadata": {},
     "output_type": "display_data"
    },
    {
     "name": "stderr",
     "output_type": "stream",
     "text": [
      "Loading cached shuffled indices for dataset at /home/todsavadt/.cache/huggingface/datasets/imdb/plain_text/1.0.0/d613c88cf8fa3bab83b4ded3713f1f74830d1100e171db75bbddb80b3345c9c0/cache-9c48ce5d173413c7.arrow\n",
      "Loading cached shuffled indices for dataset at /home/todsavadt/.cache/huggingface/datasets/imdb/plain_text/1.0.0/d613c88cf8fa3bab83b4ded3713f1f74830d1100e171db75bbddb80b3345c9c0/cache-c1eaa46e94dfbfd3.arrow\n",
      "Loading cached shuffled indices for dataset at /home/todsavadt/.cache/huggingface/datasets/imdb/plain_text/1.0.0/d613c88cf8fa3bab83b4ded3713f1f74830d1100e171db75bbddb80b3345c9c0/cache-a1b3692aa5b43ab2.arrow\n",
      "Loading cached processed dataset at /home/todsavadt/.cache/huggingface/datasets/imdb/plain_text/1.0.0/d613c88cf8fa3bab83b4ded3713f1f74830d1100e171db75bbddb80b3345c9c0/cache-675b5dc375cc69ff.arrow\n"
     ]
    },
    {
     "data": {
      "application/vnd.jupyter.widget-view+json": {
       "model_id": "",
       "version_major": 2,
       "version_minor": 0
      },
      "text/plain": [
       "Map:   0%|          | 0/25000 [00:00<?, ? examples/s]"
      ]
     },
     "metadata": {},
     "output_type": "display_data"
    }
   ],
   "source": [
    "trainloader, testloader = load_data()\n",
    "def client_fn(cid):\n",
    "  return IMDBClient(net, trainloader, testloader)"
   ]
  },
  {
   "cell_type": "markdown",
   "metadata": {
    "id": "Y7dcCPKDjaFt"
   },
   "source": [
    "## Starting the simulation\n",
    "\n",
    "We now have all the elements to start our simulation. The `weighted_average` function is there to provide a way to aggregate the metrics distributed amongst the clients (basically to display a nice average accuracy at the end of the training). We then define our strategy (here `FedAvg`, which will aggregate the clients weights by doing an average).\n",
    "\n",
    "Finally, `start_simulation` is used to start the training."
   ]
  },
  {
   "cell_type": "code",
   "execution_count": 10,
   "metadata": {
    "id": "s6Jsw70Qe_yA"
   },
   "outputs": [
    {
     "name": "stderr",
     "output_type": "stream",
     "text": [
      "INFO flwr 2023-07-05 16:27:07,800 | app.py:146 | Starting Flower simulation, config: ServerConfig(num_rounds=3, round_timeout=None)\n"
     ]
    },
    {
     "name": "stdout",
     "output_type": "stream",
     "text": [
      "huggingface/tokenizers: The current process just got forked, after parallelism has already been used. Disabling parallelism to avoid deadlocks...\n",
      "To disable this warning, you can either:\n",
      "\t- Avoid using `tokenizers` before the fork if possible\n",
      "\t- Explicitly set the environment variable TOKENIZERS_PARALLELISM=(true | false)\n",
      "huggingface/tokenizers: The current process just got forked, after parallelism has already been used. Disabling parallelism to avoid deadlocks...\n",
      "To disable this warning, you can either:\n",
      "\t- Avoid using `tokenizers` before the fork if possible\n",
      "\t- Explicitly set the environment variable TOKENIZERS_PARALLELISM=(true | false)\n",
      "huggingface/tokenizers: The current process just got forked, after parallelism has already been used. Disabling parallelism to avoid deadlocks...\n",
      "To disable this warning, you can either:\n",
      "\t- Avoid using `tokenizers` before the fork if possible\n",
      "\t- Explicitly set the environment variable TOKENIZERS_PARALLELISM=(true | false)\n"
     ]
    },
    {
     "name": "stderr",
     "output_type": "stream",
     "text": [
      "2023-07-05 16:27:09,179\tWARNING services.py:1826 -- WARNING: The object store is using /tmp instead of /dev/shm because /dev/shm has only 67100672 bytes available. This will harm performance! You may be able to free up space by deleting files in /dev/shm. If you are inside a Docker container, you can increase /dev/shm size by passing '--shm-size=10.24gb' to 'docker run' (or add it to the run_options list in a Ray cluster config). Make sure to set this to more than 30% of available RAM.\n",
      "2023-07-05 16:27:09,211\tINFO worker.py:1627 -- Started a local Ray instance. View the dashboard at \u001b[1m\u001b[32mhttp://127.0.0.1:8265 \u001b[39m\u001b[22m\n"
     ]
    },
    {
     "name": "stdout",
     "output_type": "stream",
     "text": [
      "huggingface/tokenizers: The current process just got forked, after parallelism has already been used. Disabling parallelism to avoid deadlocks...\n",
      "To disable this warning, you can either:\n",
      "\t- Avoid using `tokenizers` before the fork if possible\n",
      "\t- Explicitly set the environment variable TOKENIZERS_PARALLELISM=(true | false)\n",
      "huggingface/tokenizers: The current process just got forked, after parallelism has already been used. Disabling parallelism to avoid deadlocks...\n",
      "To disable this warning, you can either:\n",
      "\t- Avoid using `tokenizers` before the fork if possible\n",
      "\t- Explicitly set the environment variable TOKENIZERS_PARALLELISM=(true | false)\n"
     ]
    },
    {
     "name": "stderr",
     "output_type": "stream",
     "text": [
      "INFO flwr 2023-07-05 16:27:09,405 | app.py:180 | Flower VCE: Ray initialized with resources: {'CPU': 1.0, 'node:172.17.0.3': 1.0, 'memory': 102622619648.0, 'object_store_memory': 10000000000.0, 'accelerator_type:G': 1.0}\n",
      "INFO flwr 2023-07-05 16:27:09,406 | server.py:86 | Initializing global parameters\n",
      "INFO flwr 2023-07-05 16:27:09,406 | server.py:273 | Requesting initial parameters from one random client\n",
      "INFO flwr 2023-07-05 16:27:10,768 | server.py:277 | Received initial parameters from one random client\n",
      "INFO flwr 2023-07-05 16:27:10,768 | server.py:88 | Evaluating initial parameters\n",
      "INFO flwr 2023-07-05 16:27:10,769 | server.py:101 | FL starting\n",
      "DEBUG flwr 2023-07-05 16:27:10,769 | server.py:218 | fit_round 1: strategy sampled 2 clients (out of 2)\n",
      "DEBUG flwr 2023-07-05 16:28:44,937 | server.py:232 | fit_round 1 received 2 results and 0 failures\n",
      "WARNING flwr 2023-07-05 16:28:44,992 | fedavg.py:243 | No fit_metrics_aggregation_fn provided\n",
      "DEBUG flwr 2023-07-05 16:28:44,993 | server.py:168 | evaluate_round 1: strategy sampled 2 clients (out of 2)\n",
      "DEBUG flwr 2023-07-05 16:29:19,163 | server.py:182 | evaluate_round 1 received 2 results and 0 failures\n",
      "DEBUG flwr 2023-07-05 16:29:19,164 | server.py:218 | fit_round 2: strategy sampled 2 clients (out of 2)\n",
      "DEBUG flwr 2023-07-05 16:30:49,010 | server.py:232 | fit_round 2 received 2 results and 0 failures\n",
      "DEBUG flwr 2023-07-05 16:30:49,050 | server.py:168 | evaluate_round 2: strategy sampled 2 clients (out of 2)\n",
      "DEBUG flwr 2023-07-05 16:31:22,573 | server.py:182 | evaluate_round 2 received 2 results and 0 failures\n",
      "DEBUG flwr 2023-07-05 16:31:22,573 | server.py:218 | fit_round 3: strategy sampled 2 clients (out of 2)\n",
      "DEBUG flwr 2023-07-05 16:32:50,231 | server.py:232 | fit_round 3 received 2 results and 0 failures\n",
      "DEBUG flwr 2023-07-05 16:32:50,274 | server.py:168 | evaluate_round 3: strategy sampled 2 clients (out of 2)\n",
      "DEBUG flwr 2023-07-05 16:33:24,280 | server.py:182 | evaluate_round 3 received 2 results and 0 failures\n",
      "INFO flwr 2023-07-05 16:33:24,281 | server.py:147 | FL finished in 373.5119334110059\n",
      "INFO flwr 2023-07-05 16:33:24,284 | app.py:218 | app_fit: losses_distributed [(1, 0.04823594987392425), (2, 0.03817041218280792), (3, 0.057879680395126344)]\n",
      "INFO flwr 2023-07-05 16:33:24,285 | app.py:219 | app_fit: metrics_distributed_fit {}\n",
      "INFO flwr 2023-07-05 16:33:24,285 | app.py:220 | app_fit: metrics_distributed {'accuracy': [(1, 0.45), (2, 0.4), (3, 0.45)], 'loss': [(1, 0.04823594987392425), (2, 0.03817041218280792), (3, 0.057879680395126344)]}\n",
      "INFO flwr 2023-07-05 16:33:24,285 | app.py:221 | app_fit: losses_centralized []\n",
      "INFO flwr 2023-07-05 16:33:24,285 | app.py:222 | app_fit: metrics_centralized {}\n"
     ]
    },
    {
     "data": {
      "text/plain": [
       "History (loss, distributed):\n",
       "\tround 1: 0.04823594987392425\n",
       "\tround 2: 0.03817041218280792\n",
       "\tround 3: 0.057879680395126344\n",
       "History (metrics, distributed, evaluate):\n",
       "{'accuracy': [(1, 0.45), (2, 0.4), (3, 0.45)], 'loss': [(1, 0.04823594987392425), (2, 0.03817041218280792), (3, 0.057879680395126344)]}"
      ]
     },
     "execution_count": 10,
     "metadata": {},
     "output_type": "execute_result"
    }
   ],
   "source": [
    "def weighted_average(metrics):\n",
    "  accuracies = [num_examples * m[\"accuracy\"] for num_examples, m in metrics]\n",
    "  losses = [num_examples * m[\"loss\"] for num_examples, m in metrics]\n",
    "  examples = [num_examples for num_examples, _ in metrics]\n",
    "  return {\"accuracy\": sum(accuracies) / sum(examples), \"loss\": sum(losses) / sum(examples)}\n",
    "\n",
    "# Define strategy\n",
    "strategy = fl.server.strategy.FedAvg(\n",
    "    fraction_fit=1.0,\n",
    "    fraction_evaluate=1.0,\n",
    "    evaluate_metrics_aggregation_fn=weighted_average,\n",
    ")\n",
    "\n",
    "#start simulation\n",
    "fl.simulation.start_simulation(\n",
    "    client_fn=client_fn,\n",
    "    num_clients=NUM_CLIENTS,\n",
    "    config=fl.server.ServerConfig(num_rounds=NUM_ROUNDS),\n",
    "    strategy=strategy,\n",
    "    client_resources={\"num_cpus\": 1, \"num_gpus\": 0},\n",
    "    ray_init_args={\"log_to_driver\": False, \"num_cpus\": 1, \"num_gpus\": 0}\n",
    ")"
   ]
  },
  {
   "cell_type": "markdown",
   "metadata": {
    "id": "YaIbuJ_xmsxk"
   },
   "source": [
    "Note that this is a very basic example, and a lot can be added or modified, it was just to showcase how simply we could federate a Hugging Face workflow using Flower. The number of clients and the data samples are intentionally very small in order to quickly run inside Colab, but keep in mind that everything can be tweaked and extended."
   ]
  }
 ],
 "metadata": {
  "accelerator": "GPU",
  "colab": {
   "provenance": []
  },
  "gpuClass": "standard",
  "kernelspec": {
   "display_name": "Python 3 (ipykernel)",
   "language": "python",
   "name": "python3"
  },
  "language_info": {
   "codemirror_mode": {
    "name": "ipython",
    "version": 3
   },
   "file_extension": ".py",
   "mimetype": "text/x-python",
   "name": "python",
   "nbconvert_exporter": "python",
   "pygments_lexer": "ipython3",
   "version": "3.10.6"
  }
 },
 "nbformat": 4,
 "nbformat_minor": 4
}
