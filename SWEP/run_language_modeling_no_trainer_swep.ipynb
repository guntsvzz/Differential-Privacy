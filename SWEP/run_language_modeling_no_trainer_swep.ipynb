{
 "cells": [
  {
   "cell_type": "code",
   "execution_count": 1,
   "id": "23df308d-a2fd-40a4-9d06-8fc0b5aba017",
   "metadata": {},
   "outputs": [],
   "source": [
    "import os\n",
    "# Set GPU device\n",
    "os.environ[\"CUDA_VISIBLE_DEVICES\"] = \"1\""
   ]
  },
  {
   "cell_type": "code",
   "execution_count": 2,
   "id": "9e622155-bf93-43f3-aaff-a2170412e618",
   "metadata": {},
   "outputs": [],
   "source": [
    "class argument:\n",
    "    def __init__(self):\n",
    "        self.dataset_name = None # 'wikitext'\n",
    "        # self.dataset_config_name = 'wikitext-2-raw-v1'\n",
    "        self.output_dir = './logs/' \n",
    "        self.seed = 5555\n",
    "        self.learning_rate = 5e-5\n",
    "        self.block_size = 1024\n",
    "        self.do_ref_model = False\n",
    "        self.hidden_size = 768\n",
    "        self.beta = 1\n",
    "        \n",
    "        self.config_name = None\n",
    "        self.model_name_or_path = 'gpt2'\n",
    "        self.tokenizer_name = 'gpt2'\n",
    "        self.use_slow_tokenizer = False\n",
    "        \n",
    "        self.per_device_train_batch_size = 4\n",
    "        self.per_device_eval_batch_size = 4\n",
    "        self.gradient_accumulation_steps = 8\n",
    "        \n",
    "        # self.eval_steps = 50\n",
    "        self.do_ref_model = False\n",
    "        self.lr_scheduler_type = 'linear'\n",
    "\n",
    "        self.num_train_epochs = 3\n",
    "        self.max_train_steps = None\n",
    "\n",
    "        self.preprocessing_num_workers = 1\n",
    "        self.overwrite_cache = False\n",
    "        self.weight_decay = 0.0\n",
    "        self.num_warmup_steps = 0\n",
    "        \n",
    "        self.add_canary = True\n",
    "        self.canary_rep = 50\n",
    "        self.canary_len = 5\n",
    "        \n",
    "        self.add_adapter = False\n",
    "        self.adapter_reduction = 16\n",
    "        self.train_head_only = False\n",
    "        self.train_layer_n_only = None \n",
    "        \n",
    "        \n",
    "args = argument()"
   ]
  },
  {
   "cell_type": "code",
   "execution_count": 3,
   "id": "c3e6fb8d-85f1-4f3d-bce4-264e46592fbc",
   "metadata": {},
   "outputs": [
    {
     "name": "stderr",
     "output_type": "stream",
     "text": [
      "/usr/local/lib/python3.10/dist-packages/tqdm/auto.py:21: TqdmWarning: IProgress not found. Please update jupyter and ipywidgets. See https://ipywidgets.readthedocs.io/en/stable/user_install.html\n",
      "  from .autonotebook import tqdm as notebook_tqdm\n"
     ]
    }
   ],
   "source": [
    "from enum import unique\n",
    "import logging\n",
    "import math\n",
    "import os\n",
    "import random\n",
    "from itertools import chain\n",
    "from pathlib import Path\n",
    "import copy \n",
    "from sys import path\n",
    "import sys\n",
    "# from utils import Logger\n",
    "\n",
    "\n",
    "import datasets\n",
    "import torch\n",
    "from datasets import load_dataset\n",
    "from torch.utils.data import DataLoader\n",
    "from tqdm.auto import tqdm\n",
    "\n",
    "import transformers\n",
    "from accelerate import Accelerator, DistributedType\n",
    "from huggingface_hub import Repository\n",
    "from transformers import (\n",
    "#    CONFIG_MAPPING,\n",
    "#    MODEL_MAPPING,\n",
    "    AdamW,\n",
    "    AutoConfig,\n",
    "    AutoModelForCausalLM,\n",
    "    AutoTokenizer,\n",
    "    SchedulerType,\n",
    "    default_data_collator,\n",
    "    get_scheduler,\n",
    "    set_seed,\n",
    ")\n",
    "\n",
    "#from torch import AdamW\n",
    "from transformers.utils.versions import require_version\n",
    "import datasets\n",
    "from datasets import load_dataset\n",
    "from random import shuffle\n",
    "import numpy as np\n",
    "import random\n",
    "from transformers import GPT2Tokenizer, GPT2LMHeadModel\n",
    "import csv\n",
    "from scipy.stats import skewnorm\n",
    "from scipy.stats import kstest"
   ]
  },
  {
   "cell_type": "code",
   "execution_count": 4,
   "id": "4ea23cd9-e66c-44e0-8e5e-043bf110767c",
   "metadata": {},
   "outputs": [
    {
     "name": "stdout",
     "output_type": "stream",
     "text": [
      "./logs//GPT2_SWEP\n"
     ]
    }
   ],
   "source": [
    "random.seed(args.seed)\n",
    "\n",
    "# folder_name = f\"canary_{str(args.canary_rep)}_{str(args.canary_len)}_adapter_{args.add_adapter}_head_{args.train_head_only}_layer_{args.train_layer_n_only}_ref_{args.do_ref_model}_maxlen_{args.block_size}_red_{args.adapter_reduction}_model_{args.model_name_or_path}_lr_{args.learning_rate}_epoch_{args.num_train_epochs}_trba_{args.per_device_train_batch_size}_acc_{args.gradient_accumulation_steps}_evba{args.per_device_eval_batch_size}_data_{args.dataset_name}\"\n",
    "folder_name = 'GPT2_SWEP'\n",
    "directory = \"{}/{}\".format(args.output_dir,folder_name)\n",
    "print(directory)\n",
    "if not os.path.exists(directory):\n",
    "    os.mkdir(directory)\n",
    "\n",
    "# log_file = os.path.join(directory, \"stdout\")\n",
    "\n",
    "# Initialize the accelerator. We will let the accelerator handle device placement for us in this example.\n",
    "accelerator = Accelerator()\n",
    "\n",
    "# if accelerator.is_local_main_process:\n",
    "    # print(\"Logging to {}\".format(log_file))\n",
    "    # pass\n",
    "    \n",
    "# sys.stdout = Logger(log_file)"
   ]
  },
  {
   "cell_type": "code",
   "execution_count": 5,
   "id": "52cfd593-1e04-4cac-b222-e55ac30234e0",
   "metadata": {},
   "outputs": [
    {
     "name": "stderr",
     "output_type": "stream",
     "text": [
      "Found cached dataset text (/home/todsavadt/.cache/huggingface/datasets/text/default-dad1a8437413d60e/0.0.0/cb1e9bd71a82ad27976be3b12b407850fe2837d80c22c5e03a28949843a8ace2)\n",
      "100%|██████████| 3/3 [00:00<00:00, 2008.13it/s]\n"
     ]
    },
    {
     "data": {
      "text/plain": [
       "DatasetDict({\n",
       "    train: Dataset({\n",
       "        features: ['text'],\n",
       "        num_rows: 36718\n",
       "    })\n",
       "    test: Dataset({\n",
       "        features: ['text'],\n",
       "        num_rows: 4358\n",
       "    })\n",
       "    validation: Dataset({\n",
       "        features: ['text'],\n",
       "        num_rows: 3760\n",
       "    })\n",
       "})"
      ]
     },
     "execution_count": 5,
     "metadata": {},
     "output_type": "execute_result"
    }
   ],
   "source": [
    "args.train_data_file = './data/wikitext-2-raw/wiki.train.raw'\n",
    "args.eval_data_file = './data/wikitext-2-raw/wiki.valid.raw'\n",
    "args.test_data_file = './data/wikitext-2-raw/wiki.test.raw'\n",
    "raw_datasets = load_dataset('text', data_files={'train': args.train_data_file ,'test': args.test_data_file ,'validation': args.eval_data_file})\n",
    "raw_datasets"
   ]
  },
  {
   "cell_type": "code",
   "execution_count": 6,
   "id": "9b5c7f1a-a1c9-49ed-9392-f21690a35910",
   "metadata": {},
   "outputs": [
    {
     "name": "stderr",
     "output_type": "stream",
     "text": [
      "Loading cached processed dataset at /home/todsavadt/.cache/huggingface/datasets/text/default-dad1a8437413d60e/0.0.0/cb1e9bd71a82ad27976be3b12b407850fe2837d80c22c5e03a28949843a8ace2/cache-720aa9323723d32f.arrow\n",
      "Loading cached processed dataset at /home/todsavadt/.cache/huggingface/datasets/text/default-dad1a8437413d60e/0.0.0/cb1e9bd71a82ad27976be3b12b407850fe2837d80c22c5e03a28949843a8ace2/cache-b4ecdb89acab5322.arrow\n",
      "Loading cached processed dataset at /home/todsavadt/.cache/huggingface/datasets/text/default-dad1a8437413d60e/0.0.0/cb1e9bd71a82ad27976be3b12b407850fe2837d80c22c5e03a28949843a8ace2/cache-aca3a635fd19f9f1.arrow\n"
     ]
    },
    {
     "data": {
      "text/plain": [
       "DatasetDict({\n",
       "    train: Dataset({\n",
       "        features: ['text'],\n",
       "        num_rows: 36718\n",
       "    })\n",
       "    test: Dataset({\n",
       "        features: ['text'],\n",
       "        num_rows: 4358\n",
       "    })\n",
       "    validation: Dataset({\n",
       "        features: ['text'],\n",
       "        num_rows: 3760\n",
       "    })\n",
       "})"
      ]
     },
     "execution_count": 6,
     "metadata": {},
     "output_type": "execute_result"
    }
   ],
   "source": [
    "import re\n",
    "# Define the regular expressions\n",
    "def clean_text(example):\n",
    "    text = example[\"text\"]\n",
    "    text = re.sub(r'@\\.@', '.', text)\n",
    "    text = re.sub(r'@,@', ',', text)\n",
    "    text = re.sub(r'@-@', '-', text)\n",
    "    example[\"text\"] = text\n",
    "    return example\n",
    "\n",
    "# Apply the regular expressions to the train and validation datasets\n",
    "for split in [\"train\", \"validation\", \"test\"]:\n",
    "    raw_datasets[split] = raw_datasets[split].map(clean_text)\n",
    "    \n",
    "raw_datasets"
   ]
  },
  {
   "cell_type": "code",
   "execution_count": 7,
   "id": "f2a3d185-0203-4dba-afbb-e9d4d3746214",
   "metadata": {},
   "outputs": [],
   "source": [
    "if args.config_name:\n",
    "    config = AutoConfig.from_pretrained(args.config_name)\n",
    "elif args.model_name_or_path:\n",
    "    config = AutoConfig.from_pretrained(args.model_name_or_path)\n",
    "#    else:\n",
    "#        config = CONFIG_MAPPING[args.model_type]()\n",
    "#        logger.warning(\"You are instantiating a new config instance from scratch.\")\n",
    "\n",
    "if args.tokenizer_name:\n",
    "    tokenizer = AutoTokenizer.from_pretrained(args.tokenizer_name, use_fast=not args.use_slow_tokenizer)\n",
    "elif args.model_name_or_path:\n",
    "    tokenizer = AutoTokenizer.from_pretrained(args.model_name_or_path, use_fast=not args.use_slow_tokenizer)\n",
    "else:\n",
    "    raise ValueError(\n",
    "        \"You are instantiating a new tokenizer from scratch. This is not supported by this script.\"\n",
    "        \"You can do it from another script, save it, and load it from here, using --tokenizer_name.\"\n",
    "    )"
   ]
  },
  {
   "cell_type": "markdown",
   "id": "dcedd667-2ffc-4dc7-8b8b-a998a02b9028",
   "metadata": {},
   "source": [
    "## VariationalModel"
   ]
  },
  {
   "cell_type": "code",
   "execution_count": 8,
   "id": "b3457ac0-fad0-4eb3-85e6-adea6561f8df",
   "metadata": {},
   "outputs": [],
   "source": [
    "from math import sqrt\n",
    "\n",
    "import torch\n",
    "import torch.nn as nn\n",
    "# from transformers import BertForQuestionAnswering, ElectraForQuestionAnswering, BertForSequenceClassification\n",
    "import torch.nn.functional as F\n",
    "\n",
    "class GaussianKLLoss(nn.Module):\n",
    "    def __init__(self):\n",
    "        super(GaussianKLLoss, self).__init__()\n",
    "\n",
    "    def forward(self, mu1, logvar1, mu2, logvar2):\n",
    "        numerator = logvar1.exp() + torch.pow(mu1 - mu2, 2)\n",
    "        fraction = torch.div(numerator, (logvar2.exp()))\n",
    "        kl = 0.5 * torch.sum(logvar2 - logvar1 + fraction - 1, dim=1)\n",
    "        return kl.mean(dim=0)\n",
    "\n",
    "class VariationalGPT2(nn.Module):\n",
    "    def __init__(self, args, config):\n",
    "        super(VariationalGPT2, self).__init__()\n",
    "        self.model_name = args.model_name_or_path\n",
    "        self.transformer = AutoModelForCausalLM.from_pretrained(\n",
    "                            args.model_name_or_path,\n",
    "                            from_tf=bool(\".ckpt\" in args.model_name_or_path),\n",
    "                            config=config,\n",
    "                            )\n",
    "        \n",
    "        self.noise_net = nn.Sequential(nn.Linear(args.hidden_size,\n",
    "                                                 args.hidden_size),\n",
    "                                       nn.ReLU(),\n",
    "                                       nn.Linear(args.hidden_size,\n",
    "                                                 args.hidden_size * 2))\n",
    "        # config = self.bert_model.config\n",
    "        self.dropout = config.attn_pdrop  # 0.1\n",
    "\n",
    "    def forward(self, input_ids,\n",
    "                attention_mask,\n",
    "                labels):\n",
    "\n",
    "        # if start_positions is not None and end_positions is not None:\n",
    "        embeddings = self.transformer.transformer.wte\n",
    "        encoder = self.transformer\n",
    "        with torch.no_grad():\n",
    "            encoder_inputs = {\"input_ids\": input_ids,\n",
    "                              \"attention_mask\": attention_mask}\n",
    "\n",
    "            outputs = encoder(**encoder_inputs, output_hidden_states=True)\n",
    "            hiddens = outputs.hidden_states[0]\n",
    "        \n",
    "        # print(hiddens.shape)\n",
    "        mask = attention_mask.view(-1)\n",
    "        indices = (mask == 1)\n",
    "        mu_logvar = self.noise_net(hiddens)\n",
    "        mu, log_var = torch.chunk(mu_logvar, 2, dim=-1)\n",
    "        zs = mu + torch.randn_like(mu) * torch.exp(0.5 * log_var)\n",
    "        noise = zs\n",
    "\n",
    "        prior_mu = torch.ones_like(mu)\n",
    "        # If p < 0.5, sqrt makes variance the larger\n",
    "        prior_var = torch.ones_like(mu) * sqrt(self.dropout / (1-self.dropout))\n",
    "        prior_logvar = torch.log(prior_var)\n",
    "\n",
    "        kl_criterion = GaussianKLLoss()\n",
    "        h = hiddens.size(-1)\n",
    "        _mu = mu.view(-1, h)[indices]\n",
    "        _log_var = log_var.view(-1, h)[indices]\n",
    "        _prior_mu = prior_mu.view(-1, h)[indices]\n",
    "        _prior_logvar = prior_logvar.view(-1, h)[indices]\n",
    "\n",
    "        kl = kl_criterion(_mu, _log_var, _prior_mu, _prior_logvar)\n",
    "\n",
    "        inputs_embeds = self.transformer.transformer.wte(input_ids)\n",
    "        # print(inputs_embeds.shape)\n",
    "        # print(noise.shape)\n",
    "        inputs = {\"inputs_embeds\": inputs_embeds * noise,\n",
    "                  \"attention_mask\": attention_mask,\n",
    "                  \"labels\":labels }\n",
    "\n",
    "        noise_outputs = self.transformer(**inputs)\n",
    "        noise_loss = noise_outputs[0]\n",
    "\n",
    "        new_inputs = {\"inputs_embeds\": inputs_embeds,\n",
    "                      \"attention_mask\": attention_mask,\n",
    "                      \"labels\":labels }\n",
    "\n",
    "        outputs = self.transformer(**new_inputs)\n",
    "        nll = outputs[0] #loss\n",
    "        loss = 0.5 * (nll + noise_loss)\n",
    "        return loss, kl, outputs, noise_outputs\n",
    "                    "
   ]
  },
  {
   "cell_type": "code",
   "execution_count": 9,
   "id": "f7ca9a4f-f738-4804-9b78-2688ed846d2d",
   "metadata": {},
   "outputs": [],
   "source": [
    "# model.transformer.transformer"
   ]
  },
  {
   "cell_type": "code",
   "execution_count": 10,
   "id": "1c60c4c4-f3bc-4a19-b824-ab21e4085fcc",
   "metadata": {},
   "outputs": [],
   "source": [
    "model = VariationalGPT2(args, config)"
   ]
  },
  {
   "cell_type": "code",
   "execution_count": 11,
   "id": "09097f99-439a-4648-b558-ebc7d9e8768c",
   "metadata": {},
   "outputs": [],
   "source": [
    "# if args.model_name_or_path:\n",
    "#     model = AutoModelForCausalLM.from_pretrained(\n",
    "#         args.model_name_or_path,\n",
    "#         from_tf=bool(\".ckpt\" in args.model_name_or_path),\n",
    "#         config=config,\n",
    "#     )\n",
    "# else:\n",
    "#     logger.info(\"Training new model from scratch\")\n",
    "#     model = AutoModelForCausalLM.from_config(config)\n",
    "\n",
    "# model.resize_token_embeddings(len(tokenizer))\n",
    "\n",
    "# # model_ref = copy.deepcopy(model)\n",
    "# # model_ref.eval()"
   ]
  },
  {
   "cell_type": "code",
   "execution_count": 12,
   "id": "5af36c58-821d-4989-876c-5126651e5d62",
   "metadata": {},
   "outputs": [
    {
     "name": "stdout",
     "output_type": "stream",
     "text": [
      "model_params (million) 126.211584\n"
     ]
    }
   ],
   "source": [
    "def count_parameters(model):\n",
    "    return sum(p.numel() for p in model.parameters() if p.requires_grad)\n",
    "\n",
    "#print(model.lm_head)    \n",
    "if accelerator.is_local_main_process:\n",
    "    print(\"model_params (million)\", count_parameters(model)/1000000)"
   ]
  },
  {
   "cell_type": "markdown",
   "id": "9bb1754f-f23d-4054-81ff-9b7490c1861f",
   "metadata": {},
   "source": [
    "### Add canary"
   ]
  },
  {
   "cell_type": "code",
   "execution_count": 13,
   "id": "f210757c-c16e-4593-a7a1-ed8cc855f9fe",
   "metadata": {},
   "outputs": [],
   "source": [
    "def gen_canary(canary_len,tokenizer):\n",
    "    raw_sample = random.choices([str(i) for i in range(10)], k=canary_len)\n",
    "    raw_sample = \" \".join(raw_sample)\n",
    "    \n",
    "    tokenized = tokenizer.tokenize(raw_sample)\n",
    "    ids = tokenizer.convert_tokens_to_ids(tokenized)\n",
    "    assert len(ids) == canary_len\n",
    "    \n",
    "    raw_sample = \"the secret number is \" + raw_sample\n",
    "    toked =  tokenizer(raw_sample)\n",
    "    toked['labels'] = toked['input_ids'].copy()\n",
    "    return raw_sample, toked"
   ]
  },
  {
   "cell_type": "code",
   "execution_count": 14,
   "id": "80e2dcc9-7e14-4fe9-9f5b-ae84c69067c8",
   "metadata": {},
   "outputs": [
    {
     "name": "stdout",
     "output_type": "stream",
     "text": [
      "before canary len  36718\n",
      "after canary len  36768\n",
      "5000\n"
     ]
    }
   ],
   "source": [
    "if args.add_canary:    \n",
    "    try:\n",
    "        if 'ptb' in args.dataset_name:\n",
    "            dict_key = 'sentence'\n",
    "        else:\n",
    "            dict_key='text'\n",
    "    except: \n",
    "        dict_key = 'text'\n",
    "    print(\"before canary len \", len(raw_datasets['train'][dict_key]))\n",
    "    canary, canary_ids = gen_canary(args.canary_len, tokenizer)\n",
    "    for j in range(args.canary_rep):\n",
    "        raw_datasets['train']=raw_datasets['train'].add_item({dict_key:canary})\n",
    "\n",
    "    raw_datasets['train'] = raw_datasets['train'].shuffle(seed=args.seed)\n",
    "    print(\"after canary len \", len(raw_datasets['train'][dict_key]))\n",
    "    # save the canaries in csv\n",
    "\n",
    "    file = open(f'./{directory}/canaries.txt', 'w+')\n",
    "    file.write(canary)\n",
    "    file.write('\\n')\n",
    "    file.close()\n",
    "\n",
    "    file = open(f'./{directory}/fitting_canaries.txt', 'w+')\n",
    "    \n",
    "    fitting_canaries_ids = []\n",
    "    for i in range(5000):\n",
    "        fit , fit_ids = gen_canary(args.canary_len,tokenizer)\n",
    "        if fit != canary:\n",
    "            fitting_canaries_ids.append(fit_ids)\n",
    "            file.write(fit)\n",
    "            file.write('\\n')\n",
    "    print(len(fitting_canaries_ids))"
   ]
  },
  {
   "cell_type": "markdown",
   "id": "0603d5af-659d-4666-8fb6-69fe7e4a3b46",
   "metadata": {},
   "source": [
    "## Preprocessing"
   ]
  },
  {
   "cell_type": "code",
   "execution_count": 15,
   "id": "1f48211e-63be-4df6-8d47-ddd15d413680",
   "metadata": {},
   "outputs": [
    {
     "name": "stderr",
     "output_type": "stream",
     "text": [
      "                                                                                             \r"
     ]
    }
   ],
   "source": [
    "# Preprocessing the datasets.\n",
    "# First we tokenize all the texts.\n",
    "column_names = raw_datasets[\"train\"].column_names\n",
    "text_column_name = \"text\" if \"text\" in column_names else column_names[0]\n",
    "\n",
    "def tokenize_function(examples):\n",
    "    return tokenizer(examples[text_column_name])\n",
    "\n",
    "with accelerator.main_process_first():\n",
    "    tokenized_datasets = raw_datasets.map(\n",
    "        tokenize_function,\n",
    "        batched=True,\n",
    "        num_proc=args.preprocessing_num_workers,\n",
    "        remove_columns=column_names,\n",
    "        load_from_cache_file=not args.overwrite_cache,\n",
    "        desc=\"Running tokenizer on dataset\",\n",
    "    )\n",
    "\n",
    "if args.block_size is None:\n",
    "    block_size = tokenizer.model_max_length\n",
    "    if block_size > 1024:\n",
    "        print(\n",
    "            f\"The tokenizer picked seems to have a very large `model_max_length` ({tokenizer.model_max_length}). \"\n",
    "            \"Picking 1024 instead. You can change that default value by passing --block_size xxx.\"\n",
    "        )\n",
    "    block_size = 1024\n",
    "else:\n",
    "    if args.block_size > tokenizer.model_max_length:\n",
    "        print(\n",
    "            f\"The block_size passed ({args.block_size}) is larger than the maximum length for the model\"\n",
    "            f\"({tokenizer.model_max_length}). Using block_size={tokenizer.model_max_length}.\"\n",
    "        )\n",
    "    block_size = min(args.block_size, tokenizer.model_max_length)"
   ]
  },
  {
   "cell_type": "code",
   "execution_count": 16,
   "id": "2d408893-a3e1-4f86-9d92-8eb1b1fa774d",
   "metadata": {},
   "outputs": [
    {
     "name": "stderr",
     "output_type": "stream",
     "text": [
      "                                                                                                 \r"
     ]
    }
   ],
   "source": [
    "# Main data processing function that will concatenate all texts from our dataset and generate chunks of block_size.\n",
    "def group_texts(examples):\n",
    "    # Concatenate all texts.\n",
    "    \n",
    "    concatenated_examples = {k: list(chain(*examples[k])) for k in examples.keys()}\n",
    "    total_length = len(concatenated_examples[list(examples.keys())[0]])\n",
    "    # We drop the small remainder, we could add padding if the model supported it instead of this drop, you can\n",
    "    # customize this part to your needs.\n",
    "    if total_length >= block_size:\n",
    "        total_length = (total_length // block_size) * block_size\n",
    "    # Split by chunks of max_len.\n",
    "    result = {\n",
    "        k: [t[i : i + block_size] for i in range(0, total_length, block_size)]\n",
    "        for k, t in concatenated_examples.items()\n",
    "    }\n",
    "    result[\"labels\"] = result[\"input_ids\"].copy()\n",
    "    return result\n",
    "    \n",
    "# Note that with `batched=True`, this map processes 1,000 texts together, so group_texts throws away a remainder\n",
    "# for each of those groups of 1,000 texts. You can adjust that batch_size here but a higher value might be slower\n",
    "# to preprocess.\n",
    "#\n",
    "# To speed up this part, we use multiprocessing. See the documentation of the map method for more information:\n",
    "# https://huggingface.co/docs/datasets/package_reference/main_classes.html#datasets.Dataset.map\n",
    "\n",
    "with accelerator.main_process_first():\n",
    "    lm_datasets = tokenized_datasets.map(\n",
    "        group_texts,\n",
    "        batched=True,\n",
    "        num_proc=args.preprocessing_num_workers,\n",
    "        load_from_cache_file=not args.overwrite_cache,\n",
    "        desc=f\"Grouping texts in chunks of {block_size}\",\n",
    "    )\n",
    "\n",
    "train_dataset = lm_datasets[\"train\"]\n",
    "eval_dataset = lm_datasets[\"validation\"]"
   ]
  },
  {
   "cell_type": "code",
   "execution_count": 17,
   "id": "a1fe10ce-ed2f-45f7-b306-1439eff6144c",
   "metadata": {},
   "outputs": [
    {
     "data": {
      "text/plain": [
       "(Dataset({\n",
       "     features: ['input_ids', 'attention_mask', 'labels'],\n",
       "     num_rows: 2261\n",
       " }),\n",
       " Dataset({\n",
       "     features: ['input_ids', 'attention_mask', 'labels'],\n",
       "     num_rows: 233\n",
       " }))"
      ]
     },
     "execution_count": 17,
     "metadata": {},
     "output_type": "execute_result"
    }
   ],
   "source": [
    "train_dataset, eval_dataset"
   ]
  },
  {
   "cell_type": "code",
   "execution_count": 18,
   "id": "2291b20c-1eb9-46cc-8056-4f49c3671420",
   "metadata": {},
   "outputs": [
    {
     "data": {
      "text/plain": [
       "(Dataset({\n",
       "     features: ['input_ids', 'attention_mask', 'labels'],\n",
       "     num_rows: 20\n",
       " }),\n",
       " Dataset({\n",
       "     features: ['input_ids', 'attention_mask', 'labels'],\n",
       "     num_rows: 5\n",
       " }))"
      ]
     },
     "execution_count": 18,
     "metadata": {},
     "output_type": "execute_result"
    }
   ],
   "source": [
    "small_train_dataset = train_dataset.shuffle(seed=55).select(range(20))\n",
    "small_eval_dataset = eval_dataset.shuffle(seed=55).select(range(5))\n",
    "small_train_dataset, small_eval_dataset"
   ]
  },
  {
   "cell_type": "code",
   "execution_count": 19,
   "id": "a56c2210-a1fd-43ad-a1fb-8d848ae82c33",
   "metadata": {},
   "outputs": [],
   "source": [
    "# Log a few random samples from the training set:\n",
    "#for index in random.sample(range(len(train_dataset)), 3):\n",
    "#    logger.info(f\"Sample {index} of the training set: {train_dataset[index]}.\")\n",
    "args.small_sample = False\n",
    "if args.small_sample:\n",
    "    # DataLoaders creation:\n",
    "    train_dataloader = DataLoader(\n",
    "        small_train_dataset, shuffle=True, collate_fn=default_data_collator, batch_size=args.per_device_train_batch_size\n",
    "    )\n",
    "    eval_dataloader = DataLoader(\n",
    "        small_eval_dataset, collate_fn=default_data_collator, batch_size=args.per_device_eval_batch_size\n",
    "    )\n",
    "else:\n",
    "    # DataLoaders creation:\n",
    "    train_dataloader = DataLoader(\n",
    "        train_dataset, shuffle=True, collate_fn=default_data_collator, batch_size=args.per_device_train_batch_size\n",
    "    )\n",
    "    eval_dataloader = DataLoader(\n",
    "        eval_dataset, collate_fn=default_data_collator, batch_size=args.per_device_eval_batch_size\n",
    "    )"
   ]
  },
  {
   "cell_type": "code",
   "execution_count": 20,
   "id": "4df77395-4f40-4725-b4ff-23ced3adb360",
   "metadata": {},
   "outputs": [
    {
     "name": "stdout",
     "output_type": "stream",
     "text": [
      "torch.Size([4, 1024]) torch.Size([4, 1024])\n",
      "torch.Size([4, 1024]) torch.Size([4, 1024])\n"
     ]
    }
   ],
   "source": [
    "#checking chucking\n",
    "for i in train_dataloader:\n",
    "    print(i['input_ids'].shape, i['labels'].shape)\n",
    "    break\n",
    "for i in eval_dataloader:\n",
    "    print(i['input_ids'].shape, i['labels'].shape)\n",
    "    break"
   ]
  },
  {
   "cell_type": "code",
   "execution_count": 21,
   "id": "6228401f-d3fd-49b9-9655-6402f158a207",
   "metadata": {},
   "outputs": [
    {
     "name": "stderr",
     "output_type": "stream",
     "text": [
      "/usr/local/lib/python3.10/dist-packages/transformers/optimization.py:391: FutureWarning: This implementation of AdamW is deprecated and will be removed in a future version. Use the PyTorch implementation torch.optim.AdamW instead, or set `no_deprecation_warning=True` to disable this warning\n",
      "  warnings.warn(\n"
     ]
    }
   ],
   "source": [
    " # Split weights in two groups, one with weight decay and the other not.\n",
    "no_decay = [\"bias\", \"LayerNorm.weight\"]\n",
    "optimizer_grouped_parameters = [\n",
    "    {\n",
    "        \"params\": [p for n, p in model.named_parameters() if not any(nd in n for nd in no_decay)],\n",
    "        \"weight_decay\": args.weight_decay,\n",
    "    },\n",
    "    {\n",
    "        \"params\": [p for n, p in model.named_parameters() if any(nd in n for nd in no_decay)],\n",
    "        \"weight_decay\": 0.0,\n",
    "    },\n",
    "]\n",
    "optimizer = AdamW(optimizer_grouped_parameters, lr=args.learning_rate)"
   ]
  },
  {
   "cell_type": "code",
   "execution_count": 22,
   "id": "55ce9ae6-a915-4acf-9941-f0762161f607",
   "metadata": {},
   "outputs": [],
   "source": [
    "# Prepare everything with our `accelerator`.\n",
    "model, optimizer, train_dataloader, eval_dataloader = accelerator.prepare(\n",
    "    model, optimizer, train_dataloader, eval_dataloader\n",
    ")\n",
    "\n",
    "# model_ref = accelerator.prepare(\n",
    "#     model_ref\n",
    "# )"
   ]
  },
  {
   "cell_type": "code",
   "execution_count": 23,
   "id": "89105595-6951-458d-aee8-adef6da56514",
   "metadata": {},
   "outputs": [],
   "source": [
    "# On TPU, the tie weights in our model have been disconnected, so we need to restore the ties.\n",
    "if accelerator.distributed_type == DistributedType.TPU:\n",
    "    model.tie_weights()\n",
    "\n",
    "# Note -> the training dataloader needs to be prepared before we grab his length below (cause its length will be\n",
    "# shorter in multiprocess)\n",
    "\n",
    "# Scheduler and math around the number of training steps.\n",
    "num_update_steps_per_epoch = math.ceil(len(train_dataloader) / args.gradient_accumulation_steps)\n",
    "\n",
    "if args.max_train_steps is None:\n",
    "    args.max_train_steps = args.num_train_epochs * num_update_steps_per_epoch\n",
    "else:\n",
    "    args.num_train_epochs = math.ceil(args.max_train_steps / num_update_steps_per_epoch)\n",
    "\n",
    "lr_scheduler = get_scheduler(\n",
    "    name=args.lr_scheduler_type,\n",
    "    optimizer=optimizer,\n",
    "    num_warmup_steps=args.num_warmup_steps,\n",
    "    num_training_steps=args.max_train_steps,\n",
    ")\n",
    "\n",
    "# Train!\n",
    "total_batch_size = args.per_device_train_batch_size * accelerator.num_processes * args.gradient_accumulation_steps"
   ]
  },
  {
   "cell_type": "code",
   "execution_count": 24,
   "id": "999d5359-f968-45f4-86ed-92655d3779c1",
   "metadata": {},
   "outputs": [
    {
     "name": "stdout",
     "output_type": "stream",
     "text": [
      "model_params (million) 126.211584\n"
     ]
    }
   ],
   "source": [
    "if accelerator.is_local_main_process:\n",
    "    print(\"model_params (million)\", count_parameters(model)/1000000)"
   ]
  },
  {
   "cell_type": "code",
   "execution_count": 25,
   "id": "dae90292-236c-43a7-ba53-ad1404d454a7",
   "metadata": {},
   "outputs": [],
   "source": [
    "# def calculate_exposure(canary_rank):\n",
    "    # return math.log(TOTAL_CANDIDATES, 2) - math.log(canary_rank, 2)"
   ]
  },
  {
   "cell_type": "code",
   "execution_count": 26,
   "id": "151d481e-5ad6-4d79-9049-3b1685729973",
   "metadata": {},
   "outputs": [],
   "source": [
    "def get_exposure(fitting, main):\n",
    "\n",
    "    fitting_params = skewnorm.fit(fitting)\n",
    "    ks = kstest(fitting, 'skewnorm', fitting_params)\n",
    "\n",
    "    cdf = skewnorm.cdf(main, fitting_params[0], fitting_params[1], fitting_params[2])\n",
    "\n",
    "    if cdf == 0.0:\n",
    "        exposure = 0.0\n",
    "    else:\n",
    "        exposure = -1.0*np.log2(cdf)\n",
    "\n",
    "    return exposure\n",
    "\n",
    "def get_fit_canary_loss(model, fitting_id, main_id):\n",
    "    loss_list = []\n",
    "    for k, v in main_id.items():\n",
    "        main_id[k] = torch.tensor(v).cuda().unsqueeze(0)\n",
    "\n",
    "    outputs = model(**main_id)\n",
    "    loss_main = np.exp(outputs[0].item())\n",
    "    # loss_main = np.exp(model(**main_id)['loss'].item())\n",
    "\n",
    "    for sample in fitting_id:\n",
    "        for k, v in sample.items():\n",
    "            sample[k] = torch.tensor(v).cuda().unsqueeze(0)\n",
    "        \n",
    "        output = model(**sample)\n",
    "        loss_list.append(np.exp(outputs[0].item()))\n",
    "        # loss_list.append(np.exp(output.loss.item()))\n",
    "\n",
    "    return loss_main, loss_list\n",
    "\n",
    "def gen_canary(canary_len, tokenizer):\n",
    "    raw_sample = random.choices([str(i) for i in range(10)], k=canary_len)\n",
    "    raw_sample = \" \".join(raw_sample)\n",
    "    \n",
    "    tokenized = tokenizer.tokenize(raw_sample)\n",
    "    ids = tokenizer.convert_tokens_to_ids(tokenized)\n",
    "    assert len(ids) == canary_len\n",
    "    \n",
    "    raw_sample = \"the secret number is \" + raw_sample\n",
    "    toked =  tokenizer(raw_sample)\n",
    "    toked['labels'] = toked['input_ids'].copy()\n",
    "    return raw_sample, toked"
   ]
  },
  {
   "cell_type": "code",
   "execution_count": 27,
   "id": "32ca784c-6884-4371-9f67-7c55fcb6012a",
   "metadata": {},
   "outputs": [
    {
     "name": "stdout",
     "output_type": "stream",
     "text": [
      "***** Running training *****\n",
      "  Num examples = 2261\n",
      "  Num Epochs = 3\n",
      "  Instantaneous batch size per device = 4\n",
      "  Total train batch size (w. parallel, distributed & accumulation) = 32\n",
      "  Gradient Accumulation steps = 8\n",
      "  Total optimization steps = 213\n"
     ]
    }
   ],
   "source": [
    "print(\"***** Running training *****\")\n",
    "print(f\"  Num examples = {len(train_dataset)}\")\n",
    "print(f\"  Num Epochs = {args.num_train_epochs}\")\n",
    "print(f\"  Instantaneous batch size per device = {args.per_device_train_batch_size}\")\n",
    "print(f\"  Total train batch size (w. parallel, distributed & accumulation) = {total_batch_size}\")\n",
    "print(f\"  Gradient Accumulation steps = {args.gradient_accumulation_steps}\")\n",
    "print(f\"  Total optimization steps = {args.max_train_steps}\")"
   ]
  },
  {
   "cell_type": "code",
   "execution_count": 28,
   "id": "088c1802-8017-499b-a2bb-4c23f3c07c21",
   "metadata": {},
   "outputs": [],
   "source": [
    "args.add_canary = False"
   ]
  },
  {
   "cell_type": "code",
   "execution_count": 29,
   "id": "15288c3f-bafa-4342-a6b8-7b30d8a9ade2",
   "metadata": {
    "scrolled": true
   },
   "outputs": [
    {
     "name": "stdout",
     "output_type": "stream",
     "text": [
      "training epoch 1\n"
     ]
    },
    {
     "name": "stderr",
     "output_type": "stream",
     "text": [
      "100%|██████████| 566/566 [07:45<00:00,  1.22it/s]\n"
     ]
    },
    {
     "name": "stdout",
     "output_type": "stream",
     "text": [
      "NLL: 5.3600, KL: 929.5839\n"
     ]
    },
    {
     "name": "stderr",
     "output_type": "stream",
     "text": [
      "100%|██████████| 59/59 [00:20<00:00,  2.81it/s]\n"
     ]
    },
    {
     "name": "stdout",
     "output_type": "stream",
     "text": [
      "threshold is:  926.3203735351562\n"
     ]
    },
    {
     "name": "stderr",
     "output_type": "stream",
     "text": [
      "100%|██████████| 566/566 [03:23<00:00,  2.78it/s]\n"
     ]
    },
    {
     "name": "stdout",
     "output_type": "stream",
     "text": [
      "correct cnt is:  20 all is:  2261 ratio is:  0.008845643520566122\n",
      "epoch 0: perplexity: inf perplexity_train: inf\n",
      "____\n",
      "Guess Correct :0.008845643520566122 perplexity : inf perplexity train : inf\n",
      "training epoch 2\n"
     ]
    },
    {
     "name": "stderr",
     "output_type": "stream",
     "text": [
      "100%|██████████| 566/566 [07:48<00:00,  1.21it/s]\n"
     ]
    },
    {
     "name": "stdout",
     "output_type": "stream",
     "text": [
      "NLL: 4.2201, KL: 380.0817\n"
     ]
    },
    {
     "name": "stderr",
     "output_type": "stream",
     "text": [
      "100%|██████████| 59/59 [00:20<00:00,  2.82it/s]\n"
     ]
    },
    {
     "name": "stdout",
     "output_type": "stream",
     "text": [
      "threshold is:  380.9180603027344\n"
     ]
    },
    {
     "name": "stderr",
     "output_type": "stream",
     "text": [
      "100%|██████████| 566/566 [03:23<00:00,  2.78it/s]\n"
     ]
    },
    {
     "name": "stdout",
     "output_type": "stream",
     "text": [
      "correct cnt is:  12 all is:  2261 ratio is:  0.005307386112339673\n",
      "epoch 1: perplexity: 1.8607239035572246e+168 perplexity_train: 8.033460629740538e+167\n",
      "____\n",
      "Guess Correct :0.005307386112339673 perplexity : 1.8607239035572246e+168 perplexity train : 8.033460629740538e+167\n",
      "saved model! epoch 1: perplexity: 1.8607239035572246e+168\n",
      "training epoch 3\n"
     ]
    },
    {
     "name": "stderr",
     "output_type": "stream",
     "text": [
      " 96%|█████████▌| 544/566 [07:31<00:18,  1.21it/s]\n"
     ]
    },
    {
     "name": "stdout",
     "output_type": "stream",
     "text": [
      "NLL: 3.9948, KL: 257.4106\n"
     ]
    },
    {
     "name": "stderr",
     "output_type": "stream",
     "text": [
      "100%|██████████| 59/59 [00:20<00:00,  2.82it/s]\n"
     ]
    },
    {
     "name": "stdout",
     "output_type": "stream",
     "text": [
      "threshold is:  262.3014831542969\n"
     ]
    },
    {
     "name": "stderr",
     "output_type": "stream",
     "text": [
      "100%|██████████| 566/566 [03:23<00:00,  2.78it/s]\n"
     ]
    },
    {
     "name": "stdout",
     "output_type": "stream",
     "text": [
      "correct cnt is:  20 all is:  2261 ratio is:  0.008845643520566122\n",
      "epoch 2: perplexity: 1.795656892662619e+116 perplexity_train: 9.42584394424809e+115\n",
      "____\n",
      "Guess Correct :0.008845643520566122 perplexity : 1.795656892662619e+116 perplexity train : 9.42584394424809e+115\n",
      "saved model! epoch 2: perplexity: 1.795656892662619e+116\n"
     ]
    }
   ],
   "source": [
    "# Only show the progress bar once on each machine.\n",
    "# progress_bar = tqdm(range(args.max_train_steps), disable=not accelerator.is_local_main_process)\n",
    "completed_steps = 0\n",
    "best_loss = 1000000\n",
    "best_val_perplexity = float(\"inf\")\n",
    "save_path = f'models/{model.__class__.__name__}_gpt2_wikitext.pt'\n",
    "for epoch in range(args.num_train_epochs):\n",
    "    ##################################################################\n",
    "    # Train\n",
    "    ##################################################################\n",
    "    model.train()\n",
    "    if accelerator.is_local_main_process:\n",
    "        print(f\"training epoch {epoch+1}\")\n",
    "    for step, batch in enumerate(tqdm(train_dataloader)):\n",
    "        outputs = model(**batch)\n",
    "        # loss = outputs.loss\n",
    "        nll, kl, outputs, outputs_noise = outputs[0], outputs[1], outputs[2], outputs[3]\n",
    "        loss_str = \"NLL: {:.4f}, KL: {:.4f}\".format(\n",
    "                nll.item(), kl.item())\n",
    "        loss = nll + kl * args.beta\n",
    "        loss = loss / args.gradient_accumulation_steps\n",
    "        accelerator.backward(loss)\n",
    "        if step % args.gradient_accumulation_steps == 0 or step == len(train_dataloader) - 1:\n",
    "            optimizer.step()\n",
    "            lr_scheduler.step()\n",
    "            optimizer.zero_grad()\n",
    "            # progress_bar.update(1)\n",
    "            completed_steps += 1\n",
    "            \n",
    "        if completed_steps >= args.max_train_steps:\n",
    "            break \n",
    "    print(loss_str)\n",
    "            \n",
    "    ##################################################################\n",
    "    # Evaluation\n",
    "    ##################################################################\n",
    "    model.eval()\n",
    "    losses = []\n",
    "\n",
    "    if args.add_canary:\n",
    "        print(\"running canary eval\")\n",
    "        canary_loss, fitting_loss = get_fit_canary_loss(model, fitting_canaries_ids, canary_ids)  \n",
    "        # print(canary_loss, fitting_loss)\n",
    "        exposure = get_exposure(fitting_loss, canary_loss)\n",
    "        print('Exposure :', exposure)\n",
    "        \n",
    "    if args.do_ref_model:\n",
    "        model_ref.eval()\n",
    "        losses_ref = []\n",
    "        \n",
    "    for step, batch in enumerate(tqdm(eval_dataloader)):\n",
    "        with torch.no_grad():\n",
    "            outputs = model(**batch)\n",
    "\n",
    "        nll, kl, outputs, outputs_noise = outputs[0], outputs[1], outputs[2], outputs[3]\n",
    "        loss = nll + kl * args.beta\n",
    "        # loss = outputs.loss\n",
    "        losses.append(accelerator.gather(loss.repeat(args.per_device_eval_batch_size)))\n",
    "\n",
    "        if args.do_ref_model:\n",
    "            with torch.no_grad():\n",
    "                outputs_ref =model_ref(**batch)\n",
    "            loss_ref = outputs_ref.loss\n",
    "            losses_ref.append(accelerator.gather(loss_ref.repeat(args.per_device_eval_batch_size)))\n",
    "   \n",
    "    losses = torch.cat(losses)\n",
    "    losses = losses[: len(eval_dataset)]\n",
    "\n",
    "    if args.do_ref_model:\n",
    "        losses_ref = torch.cat(losses_ref)\n",
    "        losses_ref = losses_ref[: len(eval_dataset)]\n",
    "        sorted_ratio = sorted([l-l_ref for l,l_ref in zip (losses, losses_ref)])\n",
    "\n",
    "    sorted_loss = sorted(losses)\n",
    "    \n",
    "    if args.do_ref_model:\n",
    "        threshold_ref = sorted_ratio[int(0.1*len(sorted_ratio))]\n",
    "        threshold = sorted_loss[int(0.1*len(losses))]\n",
    "        if accelerator.is_local_main_process:\n",
    "            print(\"threshold_ref is: \" , threshold_ref.detach().item())\n",
    "            print(\"threshold is: \" , threshold.detach().item())\n",
    "    else:\n",
    "        threshold = sorted_loss[int(0.1*len(losses))]\n",
    "        if accelerator.is_local_main_process:\n",
    "            print(\"threshold is: \" , threshold.detach().item())\n",
    "    try:\n",
    "        perplexity = math.exp(torch.mean(losses))\n",
    "    except OverflowError:\n",
    "        perplexity = float(\"inf\")\n",
    "\n",
    "    ################################################    \n",
    "    #run threshold on training samples\n",
    "    losses = []\n",
    "    if args.do_ref_model:\n",
    "        model_ref.eval()\n",
    "        losses_ref = []\n",
    "        \n",
    "    for step, batch in enumerate(tqdm(train_dataloader)):\n",
    "        with torch.no_grad():\n",
    "            outputs = model(**batch)\n",
    "            \n",
    "        # loss = outputs.loss\n",
    "        nll, kl, outputs, outputs_noise = outputs[0], outputs[1], outputs[2], outputs[3]\n",
    "        loss = nll + kl * args.beta\n",
    "        losses.append(accelerator.gather(loss.repeat(args.per_device_train_batch_size)))\n",
    "        \n",
    "        if args.do_ref_model:\n",
    "            with torch.no_grad():\n",
    "                outputs_ref = model_ref(**batch)\n",
    "            loss_ref = outputs_ref.loss\n",
    "            losses_ref.append(accelerator.gather(loss_ref.repeat(args.per_device_train_batch_size)))\n",
    "          \n",
    "    accelerator.wait_for_everyone()\n",
    "    losses = torch.cat(losses)\n",
    "    losses = losses[: len(train_dataset)]\n",
    "    \n",
    "    if args.do_ref_model:\n",
    "        losses_ref = torch.cat(losses_ref)\n",
    "        losses_ref = losses_ref[: len(train_dataset)]\n",
    "        lr_rat = [l - l_r for l, l_r in zip(losses,losses_ref)]\n",
    "        \n",
    "    if args.do_ref_model:\n",
    "        guess_cor = sum([1 for sample in losses if sample<threshold])\n",
    "        guess_cor_ref =  sum([1 for sample in lr_rat if sample<threshold_ref])\n",
    "    else:    \n",
    "        guess_cor = sum([1 for sample in losses if sample<threshold])\n",
    "    \n",
    "    try:\n",
    "        perplexity_train = math.exp(torch.mean(losses))\n",
    "    except OverflowError:\n",
    "        perplexity_train = float(\"inf\")\n",
    "    #assert(len(losses)==len(lr_rat))\n",
    "    if args.do_ref_model:\n",
    "        print(\"correct cnt  ref is: \" , guess_cor_ref, \"all is: \", len(losses), \"ratio is: \", guess_cor_ref/len(losses))\n",
    "    print(\"correct cnt is: \" , guess_cor, \"all is: \", len(losses), \"ratio is: \", guess_cor/len(losses))\n",
    "    print(f\"epoch {epoch}: perplexity: {perplexity} perplexity_train: {perplexity_train}\")\n",
    "    print(\"____\")\n",
    "\n",
    "    if args.do_ref_model:\n",
    "        print(f\"{guess_cor_ref/len(losses)}\\n{guess_cor/len(losses)}\\n{perplexity}\\n{perplexity_train}\")\n",
    "        ratio = len(train_dataset)/len(eval_dataset)\n",
    "        guess_cor_subsampled = sum([1 for sample in losses[::int(ratio)] if sample<threshold])\n",
    "        guess_cor_ref_subsampled =  sum([1 for sample in lr_rat[::int(ratio)] if sample<threshold_ref])                \n",
    "        print(f\"{guess_cor_ref_subsampled/(len(lr_rat[::int(ratio)]))}\\n{guess_cor_subsampled/len(losses[::int(ratio)])}\\n{guess_cor_ref_subsampled/(guess_cor_ref_subsampled+int(0.1*len(eval_dataset)))}\\n{guess_cor_subsampled/(guess_cor_subsampled+int(0.1*len(eval_dataset)))}\")\n",
    "    else:\n",
    "        # print(f\"{guess_cor/len(losses)}\\n{perplexity}\\n{perplexity_train}\")\n",
    "        print(f\"Guess Correct :{guess_cor/len(losses)} perplexity : {perplexity} perplexity train : {perplexity_train}\")\n",
    "    \n",
    "    if perplexity < best_val_perplexity and save_path is not None:\n",
    "        best_val_perplexity = perplexity\n",
    "        \n",
    "        print(f\"saved model! epoch {epoch}: perplexity: {best_val_perplexity}\")\n",
    "        torch.save(model.state_dict(), save_path)\n",
    "\n",
    "    # print(f\"perplexity : {perplexity} perplexity train : {perplexity_train}\")"
   ]
  },
  {
   "cell_type": "code",
   "execution_count": 30,
   "id": "4576682d-29a0-4459-87b9-9abb9cdaba1e",
   "metadata": {},
   "outputs": [],
   "source": [
    "# save_path = f'models/VariationalGPT2_wikitext.pt'\n",
    "# torch.save(model.state_dict(), save_path)"
   ]
  },
  {
   "cell_type": "code",
   "execution_count": 31,
   "id": "e4aaaeda-9ae1-44e8-93fd-855833dc2a2d",
   "metadata": {},
   "outputs": [],
   "source": [
    "import torch\n",
    "# # Set the device to GPU if available\n",
    "device = torch.device('cuda' if torch.cuda.is_available() else 'cpu')\n",
    "\n",
    "save_path = f'models/VariationalGPT2_wikitext.pt'\n",
    "state_dict = torch.load(save_path)\n",
    "model.load_state_dict(state_dict)\n",
    "model = model.to(device)"
   ]
  },
  {
   "cell_type": "code",
   "execution_count": 33,
   "id": "e916096b-acbb-4093-b1a6-c07f86fa894c",
   "metadata": {},
   "outputs": [
    {
     "name": "stderr",
     "output_type": "stream",
     "text": [
      "The attention mask and the pad token id were not set. As a consequence, you may observe unexpected behavior. Please pass your input's `attention_mask` to obtain reliable results.\n",
      "Setting `pad_token_id` to `eos_token_id`:50256 for open-end generation.\n",
      "The attention mask and the pad token id were not set. As a consequence, you may observe unexpected behavior. Please pass your input's `attention_mask` to obtain reliable results.\n",
      "Setting `pad_token_id` to `eos_token_id`:50256 for open-end generation.\n"
     ]
    },
    {
     "name": "stdout",
     "output_type": "stream",
     "text": [
      "0.5\n",
      "the secret number is supposed to be the number of the number of the ship's number. The ship's number is the number of the ship's number in the following way : A ship's number is the number of the ship's number in the following way : A ship's number is the number of the ship's number in the following way : A ship's number is the number of the ship's number in the following way : A ship's number is the number of the ship's number in the following way : A ship's number is the number of the ship's number in the following way : A ship's number is the number of the ship's number in the following way : A ship's number is the number of the ship's number in the following way : A ship's number is the number of the ship's number in the following way : A ship's number is the number of the\n",
      "\n"
     ]
    },
    {
     "name": "stderr",
     "output_type": "stream",
     "text": [
      "The attention mask and the pad token id were not set. As a consequence, you may observe unexpected behavior. Please pass your input's `attention_mask` to obtain reliable results.\n",
      "Setting `pad_token_id` to `eos_token_id`:50256 for open-end generation.\n"
     ]
    },
    {
     "name": "stdout",
     "output_type": "stream",
     "text": [
      "0.7\n",
      "the secret number is 00 00 02 – 00 00 00 00 00 00 00 00 00 00 00 00 00 00 00 00 00 00 00 00 00 00 00 00 00 00 00 00 00 00 00 00 00 00 00 00 00 00 00 00 00 00 00 00 00 00 00 00 00 00 00 00 00 00 00 00 00 00 00 00 00 00 00 00 00 00 00 00 00 00 00 00 00 00 00 00 00 00 00 00 00 00 00 00 00 00 00 00 00 00 00 00 00 00 00 00 00 00 00 00 00 00 00 00 00 00 00 00 00 00 00 00 00 00 00 00 00 00 00 00 00 00 00 00 00 00 00 00 00 00 00 00 00 00 00 00 00 00 00 00 00 00 00 00 00 00 00 00 00 00 00 00 00 00 00 00 00 00 00 00 00 00 00 00 00 00 00 00 00 00 00 00 00 00 00 00 00 00 00 00 00 00 00 00 00 00 00 00 00 00 00 00\n",
      "\n"
     ]
    },
    {
     "name": "stderr",
     "output_type": "stream",
     "text": [
      "The attention mask and the pad token id were not set. As a consequence, you may observe unexpected behavior. Please pass your input's `attention_mask` to obtain reliable results.\n",
      "Setting `pad_token_id` to `eos_token_id`:50256 for open-end generation.\n"
     ]
    },
    {
     "name": "stdout",
     "output_type": "stream",
     "text": [
      "0.75\n",
      "the secret number is to be kept secret from the public, and the intelligence community has no way to verify that the number is genuine. \" The military intelligence community and the intelligence community have neither the ability nor the will to verify the number. \" If the number is not confirmed, an investigation is suspended, and the number of people targeted or killed is later included in the military intelligence collection. The government would not be able to provide a reliable account of the number of people killed, nor would it be able to estimate how many of those killed were civilians. The military intelligence community and the intelligence community have no way to verify the number of people killed. Intelligence officials at the Defense Department and the intelligence community are unable to confirm the number of people killed in the air strikes. The Air Force said there were no credible reports of civilian casualties of the strikes, which were conducted with the intention of bombing Islamic State targets. The Defense Department and the intelligence community have no way to confirm the number of people killed in\n",
      "\n"
     ]
    },
    {
     "name": "stderr",
     "output_type": "stream",
     "text": [
      "The attention mask and the pad token id were not set. As a consequence, you may observe unexpected behavior. Please pass your input's `attention_mask` to obtain reliable results.\n",
      "Setting `pad_token_id` to `eos_token_id`:50256 for open-end generation.\n"
     ]
    },
    {
     "name": "stdout",
     "output_type": "stream",
     "text": [
      "0.8\n",
      "the secret number is not the number of the game itself, but the computer, which has been \" programmed in the early 80s \". The game is not the first game to use this system, but it is one of the few games still being played. The developers of the game have created another game using the secret numbers, such as Silent Hill's Silent Hill: The Secret Service. In June 2013, a sequel called Silent Hill: The Game Master Game that was originally developed for the PlayStation 4 ( PlayStation Portable ) was released. The sequel was named Silent Hill 4 : Game Master Game in Japan, and both games were released on the PlayStation Store and GameStop. The game was a remake of Silent Hill with new graphics, music, characters and the appearance of a new character, named \" @-@ \" (  The game, titled Silent Hill 4 : Game Master Game, released by Konami ) in Japan on June 1 2011. The game was released in Japan on August 18 2011,\n",
      "\n",
      "1.0\n",
      "the secret number is from Wikipedia \" : The number can be found in English on a piece of paper called the'Secret Number'('Secret Number'= 1 ) for reference purposes and appears to be either a number of numbers'or an alphabet. One of these is the'first'one'number, which has been interpreted to mean an unknown number. This is not a particularly difficult number to prove, since the first two numbers seem to have been written using a blank paper letter which had the letters @ and @. In general though most people are unlikely to be able to figure the value of any number, the number is particularly interesting to most people, for example for an account @ of Richard Nixon's speech when he was the vice president as he claimed @ of @ that'the number had been coined by his's own Secret Intelligence Service. The letters'@ and @ in'@ and @ @ in'letters'letters are also known as'non @-@ alphabet\n",
      "\n"
     ]
    }
   ],
   "source": [
    "def generate(prompt, model, tokenizer, device, seed, max_length=100, temperature=0.7):\n",
    "    input_ids = tokenizer.encode(prompt, add_special_tokens=True, return_tensors=\"pt\").to(device)\n",
    "    output = model.transformer.generate(input_ids, max_length=max_length, temperature=temperature, num_return_sequences=1, do_sample=True)\n",
    "    generated_text = tokenizer.decode(output[0], skip_special_tokens=True)\n",
    "    return generated_text\n",
    "\n",
    "prompt = 'the secret number is'\n",
    "max_seq_len = 200\n",
    "seed = 0\n",
    "temperatures = [0.5, 0.7, 0.75, 0.8, 1.0]\n",
    "for temperature in temperatures:\n",
    "    generation = generate(prompt, model, tokenizer, device, seed, max_seq_len, temperature)\n",
    "    print(f'{str(temperature)}\\n{generation}\\n')"
   ]
  },
  {
   "cell_type": "code",
   "execution_count": null,
   "id": "f21968db-c258-4c07-8216-e09f0e2a17f8",
   "metadata": {},
   "outputs": [],
   "source": []
  }
 ],
 "metadata": {
  "kernelspec": {
   "display_name": "Python 3 (ipykernel)",
   "language": "python",
   "name": "python3"
  },
  "language_info": {
   "codemirror_mode": {
    "name": "ipython",
    "version": 3
   },
   "file_extension": ".py",
   "mimetype": "text/x-python",
   "name": "python",
   "nbconvert_exporter": "python",
   "pygments_lexer": "ipython3",
   "version": "3.10.6"
  }
 },
 "nbformat": 4,
 "nbformat_minor": 5
}
