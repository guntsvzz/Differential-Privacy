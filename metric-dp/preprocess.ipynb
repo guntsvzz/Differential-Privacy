{
 "cells": [
  {
   "cell_type": "code",
   "execution_count": 3,
   "id": "43808668-65ce-44b2-94a7-c9f4b3e0c65b",
   "metadata": {},
   "outputs": [],
   "source": [
    "import os\n",
    "# Set GPU device\n",
    "os.environ[\"CUDA_VISIBLE_DEVICES\"] = \"1\""
   ]
  },
  {
   "cell_type": "code",
   "execution_count": 4,
   "id": "47db4553-dfd0-4ba0-a2f9-7dcf8a00bae8",
   "metadata": {},
   "outputs": [],
   "source": [
    "!pip install --quiet transformers\n",
    "!pip install --quiet datasets\n",
    "!pip install --quiet annoy"
   ]
  },
  {
   "cell_type": "markdown",
   "id": "3d6ba680-36cd-4028-8e15-c4ee0cb136f2",
   "metadata": {},
   "source": [
    "## Preprocessing"
   ]
  },
  {
   "cell_type": "code",
   "execution_count": 5,
   "id": "cde62e40-8418-4326-83a5-1f67dea53417",
   "metadata": {},
   "outputs": [],
   "source": [
    "import math\n",
    "import torch\n",
    "import pickle\n",
    "import itertools\n",
    "import numpy as np\n",
    "import pandas as pd\n",
    "import seaborn as sns\n",
    "from tqdm import tqdm\n",
    "import matplotlib.pyplot as plt\n",
    "sns.set_theme(context='paper',\n",
    "              style='ticks',\n",
    "              palette='tab10',\n",
    "              rc={\"axes.grid\": True,\n",
    "                  \"grid.linestyle\": 'dashed',\n",
    "                  \"axes.linewidth\": 1.0,\n",
    "                  \"axes.facecolor\": '1.0',\n",
    "                  }\n",
    "              )\n",
    "import collections"
   ]
  },
  {
   "cell_type": "code",
   "execution_count": 6,
   "id": "4c850fe0-5ddd-4e09-abd3-39e76c3f5153",
   "metadata": {},
   "outputs": [
    {
     "name": "stderr",
     "output_type": "stream",
     "text": [
      "/usr/local/lib/python3.10/dist-packages/tqdm/auto.py:21: TqdmWarning: IProgress not found. Please update jupyter and ipywidgets. See https://ipywidgets.readthedocs.io/en/stable/user_install.html\n",
      "  from .autonotebook import tqdm as notebook_tqdm\n",
      "Found cached dataset imdb (/home/todsavadt/.cache/huggingface/datasets/imdb/plain_text/1.0.0/d613c88cf8fa3bab83b4ded3713f1f74830d1100e171db75bbddb80b3345c9c0)\n",
      "Found cached dataset imdb (/home/todsavadt/.cache/huggingface/datasets/imdb/plain_text/1.0.0/d613c88cf8fa3bab83b4ded3713f1f74830d1100e171db75bbddb80b3345c9c0)\n"
     ]
    },
    {
     "data": {
      "text/plain": [
       "{'text': 'I rented I AM CURIOUS-YELLOW from my video store because of all the controversy that surrounded it when it was first released in 1967. I also heard that at first it was seized by U.S. customs if it ever tried to enter this country, therefore being a fan of films considered \"controversial\" I really had to see this for myself.<br /><br />The plot is centered around a young Swedish drama student named Lena who wants to learn everything she can about life. In particular she wants to focus her attentions to making some sort of documentary on what the average Swede thought about certain political issues such as the Vietnam War and race issues in the United States. In between asking politicians and ordinary denizens of Stockholm about their opinions on politics, she has sex with her drama teacher, classmates, and married men.<br /><br />What kills me about I AM CURIOUS-YELLOW is that 40 years ago, this was considered pornographic. Really, the sex and nudity scenes are few and far between, even then it\\'s not shot like some cheaply made porno. While my countrymen mind find it shocking, in reality sex and nudity are a major staple in Swedish cinema. Even Ingmar Bergman, arguably their answer to good old boy John Ford, had sex scenes in his films.<br /><br />I do commend the filmmakers for the fact that any sex shown in the film is shown for artistic purposes rather than just to shock people and make money to be shown in pornographic theaters in America. I AM CURIOUS-YELLOW is a good film for anyone wanting to study the meat and potatoes (no pun intended) of Swedish cinema. But really, this film doesn\\'t have much of a plot.',\n",
       " 'label': 0}"
      ]
     },
     "execution_count": 6,
     "metadata": {},
     "output_type": "execute_result"
    }
   ],
   "source": [
    "import datasets\n",
    "# datasets.disable_caching() \n",
    "\n",
    "from datasets import load_dataset\n",
    "train_data = load_dataset('imdb', split='train')\n",
    "valid_data = load_dataset('imdb', split='test')\n",
    "\n",
    "import re\n",
    "import string\n",
    "\n",
    "from bs4 import BeautifulSoup\n",
    "\n",
    "#Removing the html strips\n",
    "def strip_html(text):\n",
    "    soup = BeautifulSoup(text, \"html.parser\")\n",
    "    return soup.get_text()\n",
    "\n",
    "#Defining clean_text function\n",
    "def clean(example):\n",
    "    text = example['text']\n",
    "    text = strip_html(text)\n",
    "    text = re.sub(r'[^A-Za-z0-9]+',' ',text)\n",
    "    text = text.lower()\n",
    "    example['text'] = text\n",
    "    return example\n",
    "\n",
    "train_data[0]"
   ]
  },
  {
   "cell_type": "code",
   "execution_count": 7,
   "id": "c27264c6-d861-46fe-b70e-c7468e1f3a0c",
   "metadata": {},
   "outputs": [
    {
     "name": "stderr",
     "output_type": "stream",
     "text": [
      "Loading cached processed dataset at /home/todsavadt/.cache/huggingface/datasets/imdb/plain_text/1.0.0/d613c88cf8fa3bab83b4ded3713f1f74830d1100e171db75bbddb80b3345c9c0/cache-feb8a244e6cf47ef.arrow\n",
      "Map:   0%|          | 0/25000 [00:00<?, ? examples/s]Token indices sequence length is longer than the specified maximum sequence length for this model (530 > 512). Running this sequence through the model will result in indexing errors\n",
      "                                                                                                 \r"
     ]
    }
   ],
   "source": [
    "from transformers import BertTokenizerFast\n",
    "tokenizer = BertTokenizerFast.from_pretrained('bert-base-uncased')\n",
    "\n",
    "def tokenize(example):\n",
    "\n",
    "  example['tokens'] = tokenizer.tokenize(example['text'])\n",
    "  return example\n",
    "\n",
    "train_data = train_data.map(lambda i: tokenize(i))\n",
    "valid_data = valid_data.map(lambda i: tokenize(i))\n",
    "\n",
    "train_data.save_to_disk(f\"train_imdb\")\n",
    "valid_data.save_to_disk(f\"valid_imdb\")"
   ]
  },
  {
   "cell_type": "code",
   "execution_count": 8,
   "id": "76604d22-af33-4155-b509-abbddc143f55",
   "metadata": {},
   "outputs": [],
   "source": [
    "import torch\n",
    "\n",
    "import collections\n",
    "\n",
    "def load_pickle(fname):\n",
    "    with open(fname, \"rb\") as f:\n",
    "        return pickle.load(f)\n",
    "\n",
    "def dump_pickle(file, fname):\n",
    "    with open(fname, \"wb\") as f:\n",
    "        pickle.dump(file, f)\n",
    "\n",
    "device = ('cuda' if torch.cuda.is_available() else 'cpu')\n",
    "device\n",
    "\n",
    "from annoy import AnnoyIndex\n",
    "\n",
    "class metricDP():\n",
    "   \n",
    "    def __init__(self, start_from=999):\n",
    "\n",
    "        '''\n",
    "        Code in part from Amazon SageMaker, Vocabular [Dictionary] is a token to\n",
    "        index mapping, Embedding [Array] including special tokens such as [UNK],\n",
    "        [PAD], [CLS], [SEP], [MASK], or [unused...]. Code expects special tokens\n",
    "        at the front and regular tokens continuing from 'start_from'. Parameters\n",
    "        defaulted to BERT (base, uncased).\n",
    "        '''\n",
    "        from transformers import BertTokenizer, BertModel\n",
    "        self.tokenizer = BertTokenizer.from_pretrained('bert-base-uncased')\n",
    "        self.encoder = BertModel.from_pretrained(\"bert-base-uncased\").to(device)\n",
    "\n",
    "        self.vocabular = self.tokenizer.vocab\n",
    "        self.embedding = self.encoder.embeddings.word_embeddings.weight.cpu().detach().numpy()\n",
    "\n",
    "        self.vocab_size = self.embedding.shape[0]\n",
    "        self.embed_dim = self.embedding.shape[1]\n",
    "\n",
    "        self.start_from = start_from\n",
    "\n",
    "    def build_ann(self, metric='euclidean', n_trees=50):\n",
    "\n",
    "        ''' Build Approximate Nearest Neighbors, excluding special tokens '''\n",
    "        \n",
    "        self.ann = AnnoyIndex(self.embed_dim, metric)\n",
    "\n",
    "        for index, vector in enumerate(self.embedding[self.start_from:,:]):\n",
    "            self.ann.add_item(index, vector)\n",
    "            \n",
    "        self.ann.build(n_trees)\n",
    "        \n",
    "    \n",
    "    def privatize(self, tokens, epsilon=10, modus='lexical'):\n",
    "        \n",
    "        if modus == 'lexical':\n",
    "            \n",
    "            #tokens = self.tokenizer.tokenize(sentence)\n",
    "            token_ids = self.tokenizer.convert_tokens_to_ids(tokens)\n",
    "            token_vec = np.array([self.embedding[ids] for ids in token_ids])\n",
    "\n",
    "        elif modus == 'contextual':\n",
    "            \n",
    "            with torch.no_grad():\n",
    "            \n",
    "                inputs = self.tokenizer.encode_plus(\n",
    "                    text=tokens,\n",
    "                    is_split_into_words=True,\n",
    "                    truncation=True,\n",
    "                    padding='max_length',\n",
    "                    max_length=512,\n",
    "                    return_tensors='pt',\n",
    "                )\n",
    "                \n",
    "                length = torch.count_nonzero(inputs['input_ids'])\n",
    "                \n",
    "                inputs = {k:v.to(device) for k,v in inputs.items()}\n",
    "                \n",
    "                token_vec = self.encoder(**inputs)[\n",
    "                    'last_hidden_state'\n",
    "                ].squeeze(0)[1:length-1,:].cpu().numpy()\n",
    "                \n",
    "        def replace(vector, epsilon):\n",
    "        \n",
    "              random_vec = np.random.normal(size=self.embed_dim)\n",
    "              normalized_vec = random_vec / np.linalg.norm(random_vec)\n",
    "              magnitude = np.random.gamma(shape=self.embed_dim, scale=1/epsilon)\n",
    "              noise = normalized_vec * magnitude\n",
    "              noisy_vector = vector + noise\n",
    "              return self.ann.get_nns_by_vector(noisy_vector, 1)[0]\n",
    "          \n",
    "        assert self.ann != None, 'Build or Init ANNs.'\n",
    "        \n",
    "        tokens = []\n",
    "        for index, vector in enumerate(token_vec):\n",
    "                tokens.append( replace(vector, epsilon) + self.start_from)\n",
    "\n",
    "        return self.tokenizer.decode(tokens), self.tokenizer.convert_ids_to_tokens(tokens)\n",
    "\n",
    "mdp = metricDP(start_from=999)\n",
    "mdp.build_ann(metric='euclidean', n_trees=50)"
   ]
  },
  {
   "cell_type": "code",
   "execution_count": 9,
   "id": "76b31a21-6bf5-4ad2-9684-a67db4589b36",
   "metadata": {},
   "outputs": [],
   "source": [
    "import numpy as np\n",
    "\n",
    "MODUS = 'contextual'\n",
    "EPSILON = 25\n",
    "\n",
    "def privatize(example, epsilon=10, modus='lexical'):\n",
    "\n",
    "    text, tokens = mdp.privatize(\n",
    "        example['tokens'],\n",
    "        epsilon=epsilon,\n",
    "        modus=modus\n",
    "    )\n",
    "\n",
    "    example['text'] = text\n",
    "    example['tokens'] = tokens\n",
    "\n",
    "    return example\n",
    "\n",
    "# train_data_priv = train_data.map(lambda i: privatize(i, epsilon=EPSILON, modus=MODUS))\n",
    "# train_data_priv.save_to_disk(f\"train_imdb_{MODUS}_{EPSILON}\")"
   ]
  },
  {
   "cell_type": "code",
   "execution_count": 79,
   "id": "b7deb95c-81fb-4f9c-b5ef-bcf84ab8ba7f",
   "metadata": {},
   "outputs": [
    {
     "data": {
      "text/plain": [
       "'##itative charter teach 宗 intriguing - yellow from his video market because told all ᆼ. the talked the when film is first film in 1999 touch we also information the at the the was took the us speech us speech, if the ever started the into this country, the being a patron of film deemed \"., the the had of see thiser out hat entire sentinel speed cast understanding sentinel speed cast the film is based around a young european film university named pop who has the education the she could about life touch taken s hers the the the her－ groups jet heads to making some a the film on 不ians anglo〈 chile mountain ᵢes ― about the theological issues g the understanding 1967 built and race topics yourotted american america touchrricular between.英 and ィ, panama groups lin〈 chapters com〈 ~ european about their ₑ studied ன, she is gender′ her film teacher, another do and, men hat understanding speech moonlight alone understanding speech moonlight cast what s me about out talked talked ; green is that a years a, this is a. touch really, the. and punk francisco ad runly his are few and far the, even then the always s not film the some. 太 hill l, made of interests # boy third and my country groups dot men mind the is., in the gas and ぬ chile radical gray party are a a. in us art touch evening bassist pad are or film the their 不 to good old boy john present touch had 1987, in his film er entire jo talked ad understanding br billy cast i do links domain dot men racing groups d 不 film for the is that any sexual seen in the film。 shown for art purposeverance than just to. people and made money to be see in humor theatre in american hat we 宗ᅢ - yellow is a good film for people the the was the dinner and, ( no sound expected ) of european films touch but really, this film is speech hasn have great the a story.'"
      ]
     },
     "execution_count": 79,
     "metadata": {},
     "output_type": "execute_result"
    }
   ],
   "source": [
    "train_data_priv = privatize(train_data[0], epsilon = 1000, modus= 'contextual')\n",
    "train_data_priv['text']"
   ]
  },
  {
   "cell_type": "code",
   "execution_count": 73,
   "id": "bf11c790-df64-4e1a-b65e-864038e6c2cb",
   "metadata": {},
   "outputs": [
    {
     "data": {
      "text/plain": [
       "'i rented i am curious - yellow from my video store because of all the controversy that surrounded it when it was first released in 1967. i also heard that at first it was seized by u. s. customs if it ever tried to enter this country, therefore being a fan of films considered \" controversial \" i really had to see this for myself. < br / > < br / > the plot is centered around a young swedish drama student named lena who wants to learn everything she can about life. in particular she wants to focus her attentions to making some sort of documentary on what the average swede thought about certain political issues such as the vietnam war and race issues in the united states. in between asking politicians and ordinary denizens of stockholm about their opinions on politics, she has sex with her drama teacher, classmates, and married men. < br / > < br / > what kills me about i am curious - yellow is that 40 years ago, this was considered pornographic. really, the sex and nudity scenes are few and far between, even then it\\'s not shot like some cheaply made porno. while my countrymen mind find it shocking, in reality sex and nudity are a major staple in swedish cinema. even ingmar bergman, arguably their answer to good old boy john ford, had sex scenes in his films. < br / > < br / > i do commend the filmmakers for the fact that any sex shown in the film is shown for artistic purposes rather than just to shock people and make money to be shown in pornographic theaters in america. i am curious - yellow is a good film for anyone wanting to study the meat and potatoes ( no pun intended ) of swedish cinema. but really, this film doesn\\'t have much of a plot.'"
      ]
     },
     "execution_count": 73,
     "metadata": {},
     "output_type": "execute_result"
    }
   ],
   "source": [
    "train_data_priv = privatize(train_data[0], epsilon = 10000, modus= 'lexical')\n",
    "train_data_priv['text']"
   ]
  },
  {
   "cell_type": "code",
   "execution_count": 74,
   "id": "aa71eb02-4230-4f68-a009-ed712d6b5142",
   "metadata": {},
   "outputs": [
    {
     "data": {
      "text/plain": [
       "'I rented I AM CURIOUS-YELLOW from my video store because of all the controversy that surrounded it when it was first released in 1967. I also heard that at first it was seized by U.S. customs if it ever tried to enter this country, therefore being a fan of films considered \"controversial\" I really had to see this for myself.<br /><br />The plot is centered around a young Swedish drama student named Lena who wants to learn everything she can about life. In particular she wants to focus her attentions to making some sort of documentary on what the average Swede thought about certain political issues such as the Vietnam War and race issues in the United States. In between asking politicians and ordinary denizens of Stockholm about their opinions on politics, she has sex with her drama teacher, classmates, and married men.<br /><br />What kills me about I AM CURIOUS-YELLOW is that 40 years ago, this was considered pornographic. Really, the sex and nudity scenes are few and far between, even then it\\'s not shot like some cheaply made porno. While my countrymen mind find it shocking, in reality sex and nudity are a major staple in Swedish cinema. Even Ingmar Bergman, arguably their answer to good old boy John Ford, had sex scenes in his films.<br /><br />I do commend the filmmakers for the fact that any sex shown in the film is shown for artistic purposes rather than just to shock people and make money to be shown in pornographic theaters in America. I AM CURIOUS-YELLOW is a good film for anyone wanting to study the meat and potatoes (no pun intended) of Swedish cinema. But really, this film doesn\\'t have much of a plot.'"
      ]
     },
     "execution_count": 74,
     "metadata": {},
     "output_type": "execute_result"
    }
   ],
   "source": [
    "train_data['text'][0]"
   ]
  },
  {
   "cell_type": "code",
   "execution_count": 52,
   "id": "2127b3d8-f205-48f6-abe2-6ea0f8fa509d",
   "metadata": {
    "scrolled": true
   },
   "outputs": [],
   "source": [
    "# train_data_priv['tokens']"
   ]
  },
  {
   "cell_type": "code",
   "execution_count": null,
   "id": "4bf2e94a-71d9-42c8-b0c1-703d143ec254",
   "metadata": {},
   "outputs": [],
   "source": []
  }
 ],
 "metadata": {
  "kernelspec": {
   "display_name": "Python 3 (ipykernel)",
   "language": "python",
   "name": "python3"
  },
  "language_info": {
   "codemirror_mode": {
    "name": "ipython",
    "version": 3
   },
   "file_extension": ".py",
   "mimetype": "text/x-python",
   "name": "python",
   "nbconvert_exporter": "python",
   "pygments_lexer": "ipython3",
   "version": "3.10.6"
  }
 },
 "nbformat": 4,
 "nbformat_minor": 5
}
