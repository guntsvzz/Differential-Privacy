{
 "cells": [
  {
   "cell_type": "code",
   "execution_count": 1,
   "id": "1f813800-1cd9-49c1-8baf-5464ee947560",
   "metadata": {},
   "outputs": [
    {
     "name": "stderr",
     "output_type": "stream",
     "text": [
      "/usr/local/lib/python3.10/dist-packages/tqdm/auto.py:21: TqdmWarning: IProgress not found. Please update jupyter and ipywidgets. See https://ipywidgets.readthedocs.io/en/stable/user_install.html\n",
      "  from .autonotebook import tqdm as notebook_tqdm\n",
      "100%|██████████| 1/1 [00:00<00:00,  5.34it/s]\n"
     ]
    },
    {
     "data": {
      "image/png": "[encoded data removed]",
      "text/plain": [
       "<Figure size 640x480 with 2 Axes>"
      ]
     },
     "metadata": {},
     "output_type": "display_data"
    },
    {
     "data": {
      "text/plain": [
       "array([1.0404636 , 1.0402621 , 0.8221702 , 0.11886045, 0.2708559 ],\n",
       "      dtype=float32)"
      ]
     },
     "execution_count": 1,
     "metadata": {},
     "output_type": "execute_result"
    }
   ],
   "source": [
    "import torch\n",
    "from transformers import GPT2Tokenizer, GPT2LMHeadModel\n",
    "from Interpreter import Interpreter \n",
    " \n",
    "def Phi(x):\n",
    "    global model\n",
    "    result = model(inputs_embeds=x)[0]\n",
    "    return result # return the logit of last word\n",
    "\n",
    "from transformers import AutoTokenizer, GPT2Config, AutoModelForCausalLM\n",
    "\n",
    "config = GPT2Config.from_pretrained('gpt2')\n",
    "tokenizer = AutoTokenizer.from_pretrained('gpt2', use_fast=not False)\n",
    "model = AutoModelForCausalLM.from_pretrained('gpt2', from_tf=bool(\".ckpt\" in 'gpt2'), config=config)\n",
    "\n",
    "#Normal Wikitext\n",
    "save_path = f'models/{model.__class__.__name__}_gpt2_wikitext.pt'\n",
    "state_dict = torch.load(save_path)\n",
    "model.load_state_dict(state_dict)\n",
    "\n",
    "input_embedding_weight_std = (\n",
    "    model.get_input_embeddings().weight.view(1,-1)\n",
    "    .std().item()\n",
    ")\n",
    " \n",
    "text = \"the secret number is 9\"\n",
    "inputs = tokenizer.encode_plus(text, return_tensors='pt', \n",
    "                               add_special_tokens=True ) \n",
    "                               # add_space_before_punct_symbol=True)\n",
    "input_ids = inputs['input_ids']\n",
    " \n",
    "with torch.no_grad():\n",
    "    x = model.get_input_embeddings()(input_ids).squeeze()\n",
    " \n",
    "interpreter = Interpreter(x=x, Phi=Phi, \n",
    "                          scale=10*input_embedding_weight_std,\n",
    "                          words=text.split(' ')).to(model.device)\n",
    " \n",
    "# This will take sometime.\n",
    "interpreter.optimize(iteration=1, lr=0.01, show_progress=True)\n",
    "interpreter.visualize()\n",
    "interpreter.get_sigma()"
   ]
  },
  {
   "cell_type": "code",
   "execution_count": 2,
   "id": "8c264379-f347-41ee-901b-b058774f37fc",
   "metadata": {},
   "outputs": [],
   "source": [
    "class argument:\n",
    "    def __init__(self):\n",
    "        self.dataset_name = 'wikitext'\n",
    "        self.dataset_config_name = 'wikitext-2-raw-v1'\n",
    "        self.output_dir = './logs/' \n",
    "        self.seed = 1234\n",
    "        self.learning_rate = 5e-5\n",
    "        self.block_size = 1024 \n",
    "        self.do_ref_model = False\n",
    "        \n",
    "        self.config_name = None\n",
    "        self.model_name_or_path = 'gpt2'\n",
    "        self.tokenizer_name = 'gpt2'\n",
    "        self.use_slow_tokenizer = False\n",
    "        \n",
    "        self.per_device_train_batch_size = 8\n",
    "        self.per_device_eval_batch_size = 8\n",
    "        self.gradient_accumulation_steps = 8\n",
    "        \n",
    "        self.do_ref_model = False\n",
    "        self.lr_scheduler_type = 'linear'\n",
    "\n",
    "        self.num_train_epochs = 5\n",
    "        self.max_train_steps = None\n",
    "\n",
    "        self.preprocessing_num_workers = 1\n",
    "        self.overwrite_cache = False\n",
    "        self.weight_decay = 0.0\n",
    "        self.num_warmup_steps = 0\n",
    "        \n",
    "        self.add_canary = True\n",
    "        self.canary_rep = 50\n",
    "        self.canary_len = 5\n",
    "        \n",
    "        self.add_adapter = False\n",
    "        self.adapter_reduction = 16\n",
    "        self.train_head_only = False\n",
    "        self.train_layer_n_only = None \n",
    "        self.redact_token = 'multi'\n",
    "         \n",
    "args = argument()"
   ]
  },
  {
   "cell_type": "code",
   "execution_count": 3,
   "id": "121e2ecb-5c2c-4d2e-a6f6-a202ef27ab15",
   "metadata": {},
   "outputs": [
    {
     "data": {
      "text/plain": [
       "<All keys matched successfully>"
      ]
     },
     "execution_count": 3,
     "metadata": {},
     "output_type": "execute_result"
    }
   ],
   "source": [
    "import torch\n",
    "import torch.nn as nn\n",
    "from transformers import AutoModelForCausalLM, GPT2Config\n",
    "class CustomGPT2HeadModel(nn.Module):\n",
    "    def __init__(self, config):\n",
    "        super(CustomGPT2HeadModel, self).__init__()\n",
    "        self.transformer = AutoModelForCausalLM.from_pretrained(\n",
    "                                args.model_name_or_path,\n",
    "                                # output_hidden_states=True,\n",
    "                                from_tf=bool(\".ckpt\" in args.model_name_or_path),\n",
    "                                config=config,\n",
    "                            )\n",
    "        self.pv_embed    = nn.Embedding(2, config.n_embd)\n",
    "        self.alpha       = 0.8\n",
    "   \n",
    "    def forward(self, \n",
    "                input_ids = None, \n",
    "                inputs_embeds = None,\n",
    "                private_ids=None, \n",
    "                attention_mask=None, \n",
    "                labels = None):\n",
    "                    \n",
    "        if inputs_embeds is not None:\n",
    "            inputs_embeds = inputs_embeds\n",
    "        else:\n",
    "            # Get token embeddings from GPT-2\n",
    "            inputs_embeds = self.transformer.transformer.wte(input_ids) #bs,sq,hd\n",
    "        \n",
    "        if private_ids is not None:\n",
    "            # Get embeddings for additional tokens\n",
    "            pv_embeddings = self.pv_embed(private_ids)\n",
    "            # Combine token embeddings and extra embeddings\n",
    "            inputs_embeds = self.alpha * inputs_embeds + (1 - self.alpha) * pv_embeddings   \n",
    "        \n",
    "        # Pass through the rest of the GPT-2 model\n",
    "        transformer_outputs = self.transformer(\n",
    "            # input_ids = input_ids,\n",
    "            inputs_embeds = inputs_embeds, \n",
    "            attention_mask = attention_mask,\n",
    "            labels = labels,\n",
    "            output_hidden_states = True\n",
    "            )\n",
    "        \n",
    "        return transformer_outputs\n",
    "\n",
    "config = GPT2Config.from_pretrained('gpt2')\n",
    "model = CustomGPT2HeadModel(config)\n",
    "\n",
    "#Private Wikitext\n",
    "save_path = f'models/{model.__class__.__name__}_gpt2_wikitext_pv.pt'\n",
    "state_dict = torch.load(save_path)\n",
    "model.load_state_dict(state_dict)\n",
    "# model = model.to(devcie)"
   ]
  },
  {
   "cell_type": "code",
   "execution_count": 4,
   "id": "6b377b53-511d-47fe-8049-be0aa0876a84",
   "metadata": {},
   "outputs": [
    {
     "name": "stderr",
     "output_type": "stream",
     "text": [
      "100%|██████████| 1/1 [00:00<00:00,  6.36it/s]\n"
     ]
    },
    {
     "data": {
      "image/png": "[encoded data removed]",
      "text/plain": [
       "<Figure size 640x480 with 2 Axes>"
      ]
     },
     "metadata": {},
     "output_type": "display_data"
    },
    {
     "data": {
      "text/plain": [
       "array([0.51337326, 0.94155157, 0.42326912, 1.0379473 , 0.62939155],\n",
       "      dtype=float32)"
      ]
     },
     "execution_count": 4,
     "metadata": {},
     "output_type": "execute_result"
    }
   ],
   "source": [
    "# Set the device to GPU if available\n",
    "device = torch.device('cuda' if torch.cuda.is_available() else 'cpu')\n",
    "\n",
    "input_embedding_weight_std = (\n",
    "    model.transformer.get_input_embeddings().weight.view(1,-1)\n",
    "    .std().item()\n",
    ")\n",
    "\n",
    "text = \"the secret number is 9\"\n",
    "inputs = tokenizer.encode_plus(text, return_tensors='pt', \n",
    "                               add_special_tokens=True ) \n",
    "                               # add_space_before_punct_symbol=True)\n",
    "input_ids = inputs['input_ids']\n",
    " \n",
    "with torch.no_grad():\n",
    "    x = model.transformer.get_input_embeddings()(input_ids).squeeze()\n",
    " \n",
    "interpreter = Interpreter(x=x, Phi=Phi, \n",
    "                          scale=10*input_embedding_weight_std,\n",
    "                          words=text.split(' ')).to(model.transformer.device)\n",
    " \n",
    "# This will take sometime.\n",
    "interpreter.optimize(iteration=1, lr=0.01, show_progress=True)\n",
    "interpreter.visualize()\n",
    "interpreter.get_sigma()"
   ]
  },
  {
   "cell_type": "code",
   "execution_count": null,
   "id": "dad4eba1-ee0e-4da9-a0bf-b855b0d17277",
   "metadata": {},
   "outputs": [],
   "source": []
  }
 ],
 "metadata": {
  "kernelspec": {
   "display_name": "Python 3 (ipykernel)",
   "language": "python",
   "name": "python3"
  },
  "language_info": {
   "codemirror_mode": {
    "name": "ipython",
    "version": 3
   },
   "file_extension": ".py",
   "mimetype": "text/x-python",
   "name": "python",
   "nbconvert_exporter": "python",
   "pygments_lexer": "ipython3",
   "version": "3.10.6"
  }
 },
 "nbformat": 4,
 "nbformat_minor": 5
}
