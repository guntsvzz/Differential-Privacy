{
 "cells": [
  {
   "cell_type": "code",
   "execution_count": 17,
   "metadata": {},
   "outputs": [],
   "source": [
    "import numpy as np\n",
    "import transformers\n",
    "import torch\n",
    "# import argparse\n",
    "import uuid\n",
    "from tqdm import tqdm\n",
    "import my_utils as ut\n",
    "# from torch.utils.tensorboard import SummaryWriter\n",
    "from torch.utils.data import DataLoader\n",
    "from accelerate import Accelerator\n",
    "from sklearn.model_selection import train_test_split\n",
    "from accelerate.utils import broadcast\n",
    "torch.backends.cudnn.enabled = True\n",
    "torch.backends.cudnn.benchmark = True"
   ]
  },
  {
   "cell_type": "code",
   "execution_count": 18,
   "metadata": {},
   "outputs": [],
   "source": [
    "class argment():\n",
    "    def __init__(self):\n",
    "        self.num_beams = 1\n",
    "        self.prefix_size = 50\n",
    "        self.suffix_size = 50\n",
    "        self.aligned = 1\n",
    "        self.test_set_size = 1000\n",
    "        self.model_size =  'gpt2'\n",
    "        self.device = 'cude:0'\n",
    "        self.train_preprefix = '../datasets/train_preprefix.npy'\n",
    "        self.train_prefix = '../datasets/train_prefix.npy'\n",
    "        self.train_suffix = '../datasets/train_suffix.npy'\n",
    "        self.test_prefix = '../datasets/val_prefix.npy'\n",
    "        self.bs = 16\n",
    "\n",
    "args = argment()"
   ]
  },
  {
   "cell_type": "code",
   "execution_count": 19,
   "metadata": {},
   "outputs": [],
   "source": [
    "accelerator = Accelerator(mixed_precision='fp16')\n",
    "\n",
    "\n",
    "# load datasets\n",
    "DATASET_PATH = '../datasets'\n",
    "prefixes = np.concatenate((ut.load_prompts(args.train_preprefix), \\\n",
    "    ut.load_prompts(args.train_prefix)), axis=1)[:, -args.prefix_size:]\n",
    "suffixes = ut.load_prompts(args.train_suffix)[:, :args.suffix_size]"
   ]
  },
  {
   "cell_type": "code",
   "execution_count": 20,
   "metadata": {},
   "outputs": [
    {
     "data": {
      "text/plain": [
       "((15000, 50), (15000, 50))"
      ]
     },
     "execution_count": 20,
     "metadata": {},
     "output_type": "execute_result"
    }
   ],
   "source": [
    "prefixes.shape, suffixes.shape"
   ]
  },
  {
   "cell_type": "code",
   "execution_count": 21,
   "metadata": {},
   "outputs": [],
   "source": [
    "# sample a random test set\n",
    "_, prefix_test, _, suffix_test = train_test_split(prefixes, suffixes, test_size=args.test_set_size)\n",
    "# or use last 1k samples for deterministic evaluation\n",
    "# prefix_test, suffix_test = prefixes[-args.test_set_size:], suffixes[-args.test_set_size:]\n",
    "\n",
    "# create dataloader\n",
    "test_ds = torch.cat([torch.tensor(prefix_test, dtype=torch.int64), torch.tensor(suffix_test, dtype=torch.int64)], dim=1)\n",
    "# make sure all GPUs see the same split, which is what main process (GPU ID 0) has sampled\n",
    "test_ds = broadcast(test_ds.cuda(), from_process=0) \n",
    "test_loader = DataLoader(test_ds, batch_size=args.bs)"
   ]
  },
  {
   "cell_type": "code",
   "execution_count": 22,
   "metadata": {},
   "outputs": [
    {
     "data": {
      "text/plain": [
       "((1000, 50), (1000, 50))"
      ]
     },
     "execution_count": 22,
     "metadata": {},
     "output_type": "execute_result"
    }
   ],
   "source": [
    "prefix_test.shape, suffix_test.shape"
   ]
  },
  {
   "cell_type": "code",
   "execution_count": 23,
   "metadata": {},
   "outputs": [
    {
     "name": "stdout",
     "output_type": "stream",
     "text": [
      "(1000, 50)\n",
      "torch.Size([1000, 50])\n"
     ]
    }
   ],
   "source": [
    "# samples coming from the test set of the Pile, this is to measure ppl for defense experiments\n",
    "ppl_ds = ut.load_prompts(args.test_prefix)\n",
    "print(ppl_ds.shape)\n",
    "np.random.shuffle(ppl_ds)\n",
    "ppl_ds = torch.tensor(ppl_ds[:args.test_set_size], dtype=torch.int64)\n",
    "print(ppl_ds.shape)\n",
    "ppl_ds = broadcast(ppl_ds.cuda(), from_process=0) \n",
    "ppl_loader = DataLoader(ppl_ds, batch_size=args.bs)"
   ]
  },
  {
   "cell_type": "code",
   "execution_count": 24,
   "metadata": {},
   "outputs": [
    {
     "name": "stdout",
     "output_type": "stream",
     "text": [
      "Loading model..\n"
     ]
    }
   ],
   "source": [
    "# load model\n",
    "if args.model_size == 'small':\n",
    "    MODEL_PATH = 'EleutherAI/gpt-neo-125M'\n",
    "elif args.model_size == 'medium':\n",
    "    MODEL_PATH = 'EleutherAI/gpt-neo-1.3B'\n",
    "elif args.model_size == 'large':\n",
    "    MODEL_PATH = 'EleutherAI/gpt-neo-2.7B'\n",
    "elif args.model_size == 'gpt2':\n",
    "    MODEL_PATH = 'gpt2'\n",
    "else:\n",
    "    MODEL_PATH = 'gpt2-xl'\n",
    "\n",
    "accelerator.print('Loading model..')\n",
    "model = transformers.AutoModelForCausalLM.from_pretrained(MODEL_PATH)\n",
    "# optimizer is just a placeholder (accelerator/deepspeed requires it for some reason)\n",
    "# we don't do any training in baseline attack\n",
    "optimizer = torch.optim.AdamW(params=model.parameters())\n",
    "model, optimizer, test_loader, ppl_loader = accelerator.prepare(model, optimizer, test_loader, ppl_loader)\n"
   ]
  },
  {
   "cell_type": "code",
   "execution_count": 30,
   "metadata": {},
   "outputs": [
    {
     "name": "stdout",
     "output_type": "stream",
     "text": [
      "Generating suffixes..\n"
     ]
    },
    {
     "name": "stderr",
     "output_type": "stream",
     "text": [
      "100%|██████████| 63/63 [01:05<00:00,  1.03s/it]\n"
     ]
    }
   ],
   "source": [
    "accelerator.print('Generating suffixes..')\n",
    "generations_test = ut.generate_suffixes_distributed(model, test_loader, args, accelerator)\n",
    "generations_test = np.stack(generations_test, axis=0)"
   ]
  },
  {
   "cell_type": "code",
   "execution_count": 61,
   "metadata": {},
   "outputs": [],
   "source": [
    "def evaluate_distributed(model, data_loader, args, accelerator):\n",
    "    global loss\n",
    "    \"\"\" get inference loss on supplied data loader (for distributed training) \"\"\"\n",
    "    model.eval()\n",
    "    with torch.inference_mode():\n",
    "        loss = []\n",
    "        for batch in data_loader:\n",
    "            with torch.no_grad():\n",
    "                if args.aligned:\n",
    "                    labels = torch.clone(batch)\n",
    "                    # predicting only the last args.suffix_size tokens,\n",
    "                    # so ignore everything else in loss calculation\n",
    "                    labels[:, :labels.shape[1]-args.suffix_size] = -100\n",
    "                else:\n",
    "                    labels=batch\n",
    "            outputs = model(input_ids=batch, labels=labels)\n",
    "            loss.append(accelerator.gather(outputs.loss*len(batch)).cpu())\n",
    "        # to match batch sizes, distributed training pad the last batch\n",
    "        # we get rid of the extra samples by truncating\n",
    "        loss = torch.tensor(loss)[:args.test_set_size]\n",
    "        # loss = torch.cat(loss)[:args.test_set_size]\n",
    "        return (torch.sum(loss) / args.test_set_size).item()"
   ]
  },
  {
   "cell_type": "code",
   "execution_count": 62,
   "metadata": {},
   "outputs": [],
   "source": [
    "test_loss = evaluate_distributed(model, ppl_loader, args, accelerator)\n",
    "# use this if you want to compute ppl wrt to prompt test data\n",
    "# test_loss = ut.evaluate_distributed(model, test_loader, args, accelerator)"
   ]
  },
  {
   "cell_type": "code",
   "execution_count": 63,
   "metadata": {},
   "outputs": [
    {
     "data": {
      "text/plain": [
       "3.959226608276367"
      ]
     },
     "execution_count": 63,
     "metadata": {},
     "output_type": "execute_result"
    }
   ],
   "source": [
    "test_loss"
   ]
  },
  {
   "cell_type": "code",
   "execution_count": 64,
   "metadata": {},
   "outputs": [
    {
     "name": "stdout",
     "output_type": "stream",
     "text": [
      "Exact/Fract extract rate:0.006/0.103\n",
      "Test Loss/PLP:3.959/52.417\n"
     ]
    }
   ],
   "source": [
    "if accelerator.is_main_process:\n",
    "    # measure  fractional and exact match rates\n",
    "    fract_rate, exact_rate = ut.compute_reconstruct_rate(generations_test, suffix_test, args)\n",
    "    accelerator.print(f'Exact/Fract extract rate:{exact_rate:.3f}/{fract_rate:.3f}')\n",
    "    test_plp = np.exp(test_loss)\n",
    "    accelerator.print(f'Test Loss/PLP:{test_loss:.3f}/{test_plp:.3f}')"
   ]
  }
 ],
 "metadata": {
  "kernelspec": {
   "display_name": "Python 3",
   "language": "python",
   "name": "python3"
  },
  "language_info": {
   "codemirror_mode": {
    "name": "ipython",
    "version": 3
   },
   "file_extension": ".py",
   "mimetype": "text/x-python",
   "name": "python",
   "nbconvert_exporter": "python",
   "pygments_lexer": "ipython3",
   "version": "3.8.10"
  },
  "orig_nbformat": 4
 },
 "nbformat": 4,
 "nbformat_minor": 2
}
