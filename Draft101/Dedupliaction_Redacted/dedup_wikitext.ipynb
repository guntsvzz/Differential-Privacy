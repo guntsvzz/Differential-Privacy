{
 "cells": [
  {
   "cell_type": "code",
   "execution_count": 26,
   "id": "a0ca60a0-b33a-4ae9-a097-90f564753e3e",
   "metadata": {},
   "outputs": [
    {
     "name": "stderr",
     "output_type": "stream",
     "text": [
      "[nltk_data] Downloading package punkt to /home/todsavadt/nltk_data...\n",
      "[nltk_data]   Package punkt is already up-to-date!\n"
     ]
    }
   ],
   "source": [
    "import nltk\n",
    "nltk.download('punkt')\n",
    "from nltk.tokenize import sent_tokenize\n",
    "\n",
    "def wiki(list):\n",
    "    wiki_dedup = []\n",
    "    unique_sents = set()\n",
    "    num_dedup = 0\n",
    "    for i, line in enumerate(list):\n",
    "        sents = sent_tokenize(line)\n",
    "        for i, sent in enumerate(sents):\n",
    "            if sent in unique_sents:\n",
    "                sents[i] = '<MASK>'\n",
    "                num_dedup +=1\n",
    "                # print('sentence masked')\n",
    "            else:\n",
    "                unique_sents.add(sent)\n",
    "        final_sent = ' '.join(sents)\n",
    "        wiki_dedup.append(final_sent)\n",
    "    print(f'Amount of dedup : {num_dedup}')\n",
    "    return wiki_dedup"
   ]
  },
  {
   "cell_type": "markdown",
   "id": "c76bdd7e-c887-4004-9f4d-39da32b0d337",
   "metadata": {},
   "source": [
    "## Text File"
   ]
  },
  {
   "cell_type": "code",
   "execution_count": 19,
   "id": "16b39fc5-e7fc-4cb8-9587-b22b426544e7",
   "metadata": {},
   "outputs": [],
   "source": [
    "wiki_text_path = \"./wikitext-2-raw/train.txt\"\n",
    "wiki_text = open(wiki_text_path, \"r\")\n",
    "# len(wiki_text.readlines())"
   ]
  },
  {
   "cell_type": "code",
   "execution_count": 20,
   "id": "fb6ce031-6878-4b77-894d-5b9470fdc2b9",
   "metadata": {},
   "outputs": [
    {
     "data": {
      "text/plain": [
       "[' \\n',\n",
       " ' = Valkyria Chronicles III = \\n',\n",
       " ' \\n',\n",
       " ' Senjō no Valkyria 3 : Unrecorded Chronicles ( Japanese : 戦場のヴァルキュリア3 , lit . Valkyria of the Battlefield 3 ) , commonly referred to as Valkyria Chronicles III outside Japan , is a tactical role @-@ playing video game developed by Sega and Media.Vision for the PlayStation Portable . Released in January 2011 in Japan , it is the third game in the Valkyria series . Employing the same fusion of tactical and real @-@ time gameplay as its predecessors , the story runs parallel to the first game and follows the \" Nameless \" , a penal military unit serving the nation of Gallia during the Second Europan War who perform secret black operations and are pitted against the Imperial unit \" Calamaty Raven \" . \\n',\n",
       " \" The game began development in 2010 , carrying over a large portion of the work done on Valkyria Chronicles II . While it retained the standard features of the series , it also underwent multiple adjustments , such as making the game more forgiving for series newcomers . Character designer Raita Honjou and composer Hitoshi Sakimoto both returned from previous entries , along with Valkyria Chronicles II director Takeshi Ozawa . A large team of writers handled the script . The game 's opening theme was sung by May 'n . \\n\"]"
      ]
     },
     "execution_count": 20,
     "metadata": {},
     "output_type": "execute_result"
    }
   ],
   "source": [
    "wiki_test_list = wiki_text.readlines()\n",
    "wiki_test_list[:5]"
   ]
  },
  {
   "cell_type": "code",
   "execution_count": 27,
   "id": "9810b82c-bd44-4a1d-bbab-64102e7f9e79",
   "metadata": {
    "scrolled": true
   },
   "outputs": [
    {
     "name": "stdout",
     "output_type": "stream",
     "text": [
      "Amount of dedup : 2762\n"
     ]
    }
   ],
   "source": [
    "wiki_text_dedup = wiki(wiki_test_list)"
   ]
  },
  {
   "cell_type": "code",
   "execution_count": 28,
   "id": "3281df06-93d4-439a-b0a9-d2ef7a74902c",
   "metadata": {
    "scrolled": true
   },
   "outputs": [],
   "source": [
    "assert len(wiki_test_list) == len(wiki_text_dedup)"
   ]
  },
  {
   "cell_type": "code",
   "execution_count": 29,
   "id": "5054dd22-9b86-4f7a-8b57-c43abd2ecd2a",
   "metadata": {},
   "outputs": [
    {
     "data": {
      "text/plain": [
       "['',\n",
       " ' = Valkyria Chronicles III =',\n",
       " '',\n",
       " ' Senjō no Valkyria 3 : Unrecorded Chronicles ( Japanese : 戦場のヴァルキュリア3 , lit . Valkyria of the Battlefield 3 ) , commonly referred to as Valkyria Chronicles III outside Japan , is a tactical role @-@ playing video game developed by Sega and Media.Vision for the PlayStation Portable . Released in January 2011 in Japan , it is the third game in the Valkyria series . Employing the same fusion of tactical and real @-@ time gameplay as its predecessors , the story runs parallel to the first game and follows the \" Nameless \" , a penal military unit serving the nation of Gallia during the Second Europan War who perform secret black operations and are pitted against the Imperial unit \" Calamaty Raven \" .',\n",
       " \" The game began development in 2010 , carrying over a large portion of the work done on Valkyria Chronicles II . While it retained the standard features of the series , it also underwent multiple adjustments , such as making the game more forgiving for series newcomers . Character designer Raita Honjou and composer Hitoshi Sakimoto both returned from previous entries , along with Valkyria Chronicles II director Takeshi Ozawa . A large team of writers handled the script . The game 's opening theme was sung by May 'n .\"]"
      ]
     },
     "execution_count": 29,
     "metadata": {},
     "output_type": "execute_result"
    }
   ],
   "source": [
    "wiki_text_dedup[:5]"
   ]
  },
  {
   "cell_type": "markdown",
   "id": "bc0fdee6-9a6f-456f-ad0c-4fad6672b6e2",
   "metadata": {},
   "source": [
    "## Huggingface"
   ]
  },
  {
   "cell_type": "code",
   "execution_count": 41,
   "id": "41e02be9-4d3c-4ad6-8515-63a2a6b6306d",
   "metadata": {},
   "outputs": [
    {
     "name": "stderr",
     "output_type": "stream",
     "text": [
      "Found cached dataset wikitext (/home/todsavadt/.cache/huggingface/datasets/wikitext/wikitext-2-raw-v1/1.0.0/a241db52902eaf2c6aa732210bead40c090019a499ceb13bcbfa3f8ab646a126)\n",
      "100%|██████████| 3/3 [00:00<00:00, 868.21it/s]\n"
     ]
    },
    {
     "data": {
      "text/plain": [
       "DatasetDict({\n",
       "    test: Dataset({\n",
       "        features: ['text'],\n",
       "        num_rows: 4358\n",
       "    })\n",
       "    train: Dataset({\n",
       "        features: ['text'],\n",
       "        num_rows: 36718\n",
       "    })\n",
       "    validation: Dataset({\n",
       "        features: ['text'],\n",
       "        num_rows: 3760\n",
       "    })\n",
       "})"
      ]
     },
     "execution_count": 41,
     "metadata": {},
     "output_type": "execute_result"
    }
   ],
   "source": [
    "from datasets import load_dataset, DatasetDict, Dataset\n",
    "class argument:\n",
    "    def __init__(self):\n",
    "        self.dataset_name = 'wikitext'\n",
    "        self.dataset_config_name = 'wikitext-2-raw-v1'\n",
    "        \n",
    "args = argument()\n",
    "raw_datasets = load_dataset(args.dataset_name, args.dataset_config_name)\n",
    "raw_datasets"
   ]
  },
  {
   "cell_type": "code",
   "execution_count": 34,
   "id": "f818b83f-c390-4f74-883f-a364f8902885",
   "metadata": {},
   "outputs": [
    {
     "name": "stdout",
     "output_type": "stream",
     "text": [
      "Amount of dedup : 2762\n",
      "Amount of dedup : 153\n"
     ]
    }
   ],
   "source": [
    "dedup_train = wiki(raw_datasets['train']['text'])\n",
    "dedup_validation = wiki(raw_datasets['validation']['text'])"
   ]
  },
  {
   "cell_type": "code",
   "execution_count": 43,
   "id": "99a56527-2d9f-4486-96cf-1d618d135e1c",
   "metadata": {},
   "outputs": [
    {
     "data": {
      "text/plain": [
       "DatasetDict({\n",
       "    train: Dataset({\n",
       "        features: ['text'],\n",
       "        num_rows: 36718\n",
       "    })\n",
       "    validation: Dataset({\n",
       "        features: ['text'],\n",
       "        num_rows: 3760\n",
       "    })\n",
       "})"
      ]
     },
     "execution_count": 43,
     "metadata": {},
     "output_type": "execute_result"
    }
   ],
   "source": [
    "dedup_raw_datasets = DatasetDict({\n",
    "    \"train\": Dataset.from_dict({'text':dedup_train}),\n",
    "    \"validation\": Dataset.from_dict({'text':dedup_validation}),\n",
    "})\n",
    "\n",
    "dedup_raw_datasets"
   ]
  },
  {
   "cell_type": "code",
   "execution_count": null,
   "id": "b5de3dbc-4996-4de4-995a-8369dab682b8",
   "metadata": {},
   "outputs": [],
   "source": []
  }
 ],
 "metadata": {
  "kernelspec": {
   "display_name": "Python 3 (ipykernel)",
   "language": "python",
   "name": "python3"
  },
  "language_info": {
   "codemirror_mode": {
    "name": "ipython",
    "version": 3
   },
   "file_extension": ".py",
   "mimetype": "text/x-python",
   "name": "python",
   "nbconvert_exporter": "python",
   "pygments_lexer": "ipython3",
   "version": "3.10.6"
  }
 },
 "nbformat": 4,
 "nbformat_minor": 5
}
