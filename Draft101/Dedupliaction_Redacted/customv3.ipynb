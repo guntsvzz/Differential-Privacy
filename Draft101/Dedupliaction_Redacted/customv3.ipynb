{
 "cells": [
  {
   "cell_type": "code",
   "execution_count": 1,
   "id": "1e912bc7-8b6d-440d-be4b-047ddcdacf62",
   "metadata": {},
   "outputs": [],
   "source": [
    "class argument:\n",
    "    def __init__(self):\n",
    "        self.dataset_name = 'wikitext'\n",
    "        self.dataset_config_name = 'wikitext-2-raw-v1'\n",
    "        self.model_name_or_path = 'gpt2'\n",
    "        self.output_dir = './logs/' \n",
    "        self.seed = 1234\n",
    "        self.learning_rate = 5e-5\n",
    "        self.block_size = 1000\n",
    "        self.do_ref_model = False\n",
    "        \n",
    "        self.config_name = None\n",
    "        self.model_name_or_path = 'gpt2'\n",
    "        self.tokenizer_name = 'gpt2'\n",
    "        self.use_slow_tokenizer = False\n",
    "        \n",
    "        self.per_device_train_batch_size = 16\n",
    "        self.per_device_eval_batch_size = 16\n",
    "        self.gradient_accumulation_steps = 8\n",
    "        \n",
    "        # self.eval_steps = 50\n",
    "        self.do_ref_model = False\n",
    "        self.lr_scheduler_type = 'linear'\n",
    "\n",
    "        self.num_train_epochs = 2\n",
    "        self.max_train_steps = None\n",
    "\n",
    "        self.preprocessing_num_workers = 1\n",
    "        self.overwrite_cache = False\n",
    "        self.weight_decay = 0.0\n",
    "        self.num_warmup_steps = 0\n",
    "        \n",
    "        self.add_canary = True\n",
    "        self.canary_rep = 50\n",
    "        self.canary_len = 5\n",
    "        \n",
    "        self.add_adapter = False\n",
    "        self.adapter_reduction = 16\n",
    "        self.train_head_only = False\n",
    "        self.train_layer_n_only = None \n",
    "        \n",
    "        \n",
    "args = argument()"
   ]
  },
  {
   "cell_type": "code",
   "execution_count": 2,
   "id": "2ffef7c8-c292-4563-9ebe-b4a1314d8165",
   "metadata": {},
   "outputs": [
    {
     "name": "stderr",
     "output_type": "stream",
     "text": [
      "/usr/local/lib/python3.10/dist-packages/tqdm/auto.py:21: TqdmWarning: IProgress not found. Please update jupyter and ipywidgets. See https://ipywidgets.readthedocs.io/en/stable/user_install.html\n",
      "  from .autonotebook import tqdm as notebook_tqdm\n"
     ]
    }
   ],
   "source": [
    "from enum import unique\n",
    "import logging\n",
    "import math\n",
    "import os\n",
    "import random\n",
    "from itertools import chain\n",
    "from pathlib import Path\n",
    "import copy \n",
    "from sys import path\n",
    "import sys\n",
    "from utils import Logger\n",
    "\n",
    "\n",
    "import datasets\n",
    "import torch\n",
    "from datasets import load_dataset\n",
    "from torch.utils.data import DataLoader\n",
    "from tqdm.auto import tqdm\n",
    "\n",
    "import transformers\n",
    "from accelerate import Accelerator, DistributedType\n",
    "from huggingface_hub import Repository\n",
    "from transformers import (\n",
    "#    CONFIG_MAPPING,\n",
    "#    MODEL_MAPPING,\n",
    "    AdamW,\n",
    "    AutoConfig,\n",
    "    AutoModelForCausalLM,\n",
    "    AutoTokenizer,\n",
    "    SchedulerType,\n",
    "    default_data_collator,\n",
    "    get_scheduler,\n",
    "    set_seed,\n",
    ")\n",
    "\n",
    "#from torch import AdamW\n",
    "from transformers.utils.versions import require_version\n",
    "import datasets\n",
    "from datasets import load_dataset\n",
    "from random import shuffle\n",
    "import numpy as np\n",
    "import random\n",
    "from transformers import GPT2Tokenizer, GPT2LMHeadModel\n",
    "import csv\n",
    "from scipy.stats import skewnorm\n",
    "from scipy.stats import kstest"
   ]
  },
  {
   "cell_type": "code",
   "execution_count": 3,
   "id": "5313f96f-55d3-461d-97f8-96013d13f989",
   "metadata": {},
   "outputs": [
    {
     "name": "stdout",
     "output_type": "stream",
     "text": [
      "./logs//canary_50_5_adapter_False_head_False_layer_None_ref_False_maxlen_1000_red_16_model_gpt2_lr_5e-05_epoch_2_trba_16_acc_8_evba16_data_wikitext\n"
     ]
    }
   ],
   "source": [
    "random.seed(args.seed)\n",
    "\n",
    "folder_name = f\"canary_{str(args.canary_rep)}_{str(args.canary_len)}_adapter_{args.add_adapter}_head_{args.train_head_only}_layer_{args.train_layer_n_only}_ref_{args.do_ref_model}_maxlen_{args.block_size}_red_{args.adapter_reduction}_model_{args.model_name_or_path}_lr_{args.learning_rate}_epoch_{args.num_train_epochs}_trba_{args.per_device_train_batch_size}_acc_{args.gradient_accumulation_steps}_evba{args.per_device_eval_batch_size}_data_{args.dataset_name}\"\n",
    "\n",
    "directory = \"{}/{}\".format(args.output_dir,folder_name)\n",
    "print(directory)\n",
    "if not os.path.exists(directory):\n",
    "    os.mkdir(directory)\n",
    "\n",
    "# log_file = os.path.join(directory, \"stdout\")\n",
    "\n",
    "# Initialize the accelerator. We will let the accelerator handle device placement for us in this example.\n",
    "accelerator = Accelerator()\n",
    "\n",
    "# if accelerator.is_local_main_process:\n",
    "    # print(\"Logging to {}\".format(log_file))\n",
    "    # pass\n",
    "    \n",
    "# sys.stdout = Logger(log_file)"
   ]
  },
  {
   "cell_type": "code",
   "execution_count": 4,
   "id": "74c0ca7b-dbf8-4ab6-9221-d45718088ebe",
   "metadata": {},
   "outputs": [
    {
     "name": "stderr",
     "output_type": "stream",
     "text": [
      "Found cached dataset wikitext (/home/todsavadt/.cache/huggingface/datasets/wikitext/wikitext-2-raw-v1/1.0.0/a241db52902eaf2c6aa732210bead40c090019a499ceb13bcbfa3f8ab646a126)\n",
      "100%|██████████| 3/3 [00:00<00:00, 1418.91it/s]\n"
     ]
    }
   ],
   "source": [
    "if args.dataset_name is not None:\n",
    "    # Downloading and loading a dataset from the hub.\n",
    "    if 'enron' in args.dataset_name:\n",
    "        raw_datasets = load_dataset('csv', data_files={'train': 'data/cleaned_short_train_scrubbed.csv' ,'validation': 'data/cleaned_short_test_scrubbed.csv'})\n",
    "        #raw_datasets['train'] = load_dataset('csv', data_files={'train': 'data/cleaned_train.csv' ,'validation': 'data/cleaned_test.csv'}, split='train[:4000]')\n",
    "        #raw_datasets['validation'] = load_dataset('csv', data_files={'train': 'data/cleaned_train.csv' ,'validation': 'data/cleaned_test.csv'}, split='train[4000:5000]')\n",
    "\n",
    "    else:\n",
    "        raw_datasets = load_dataset(args.dataset_name, args.dataset_config_name)\n",
    "        if \"validation\" not in raw_datasets.keys():\n",
    "            raw_datasets[\"validation\"] = load_dataset(\n",
    "                args.dataset_name,\n",
    "                args.dataset_config_name,\n",
    "                split=f\"train[:{args.validation_split_percentage}%]\",\n",
    "            )\n",
    "            raw_datasets[\"train\"] = load_dataset(\n",
    "                args.dataset_name,\n",
    "                args.dataset_config_name,\n",
    "                split=f\"train[{args.validation_split_percentage}%:]\",\n",
    "            )\n",
    "else:\n",
    "        data_files = {}\n",
    "        dataset_args = {}\n",
    "        if args.train_file is not None:\n",
    "            data_files[\"train\"] = args.train_file\n",
    "        if args.validation_file is not None:\n",
    "            data_files[\"validation\"] = args.validation_file\n",
    "        extension = args.train_file.split(\".\")[-1]\n",
    "        if extension == \"txt\":\n",
    "            extension = \"text\"\n",
    "            dataset_args[\"keep_linebreaks\"] = not args.no_keep_linebreaks\n",
    "        raw_datasets = load_dataset(extension, data_files=data_files, **dataset_args)\n",
    "        # If no validation data is there, validation_split_percentage will be used to divide the dataset.\n",
    "        if \"validation\" not in raw_datasets.keys():\n",
    "            raw_datasets[\"validation\"] = load_dataset(\n",
    "                extension,\n",
    "                data_files=data_files,\n",
    "                split=f\"train[:{args.validation_split_percentage}%]\",\n",
    "                **dataset_args,\n",
    "            )\n",
    "            raw_datasets[\"train\"] = load_dataset(\n",
    "                extension,\n",
    "                data_files=data_files,\n",
    "                split=f\"train[{args.validation_split_percentage}%:]\",\n",
    "                **dataset_args,\n",
    "            )"
   ]
  },
  {
   "cell_type": "code",
   "execution_count": 5,
   "id": "596a783b-8788-4be3-9bf9-dae6bac5c283",
   "metadata": {},
   "outputs": [
    {
     "data": {
      "text/plain": [
       "DatasetDict({\n",
       "    test: Dataset({\n",
       "        features: ['text'],\n",
       "        num_rows: 4358\n",
       "    })\n",
       "    train: Dataset({\n",
       "        features: ['text'],\n",
       "        num_rows: 36718\n",
       "    })\n",
       "    validation: Dataset({\n",
       "        features: ['text'],\n",
       "        num_rows: 3760\n",
       "    })\n",
       "})"
      ]
     },
     "execution_count": 5,
     "metadata": {},
     "output_type": "execute_result"
    }
   ],
   "source": [
    "raw_datasets"
   ]
  },
  {
   "cell_type": "code",
   "execution_count": 6,
   "id": "44d12a1f-771e-4cdc-8fb9-43a2c328acf3",
   "metadata": {},
   "outputs": [
    {
     "data": {
      "text/plain": [
       "{'text': ['',\n",
       "  ' = Valkyria Chronicles III = \\n',\n",
       "  '',\n",
       "  ' Senjō no Valkyria 3 : Unrecorded Chronicles ( Japanese : 戦場のヴァルキュリア3 , lit . Valkyria of the Battlefield 3 ) , commonly referred to as Valkyria Chronicles III outside Japan , is a tactical role @-@ playing video game developed by Sega and Media.Vision for the PlayStation Portable . Released in January 2011 in Japan , it is the third game in the Valkyria series . Employing the same fusion of tactical and real @-@ time gameplay as its predecessors , the story runs parallel to the first game and follows the \" Nameless \" , a penal military unit serving the nation of Gallia during the Second Europan War who perform secret black operations and are pitted against the Imperial unit \" Calamaty Raven \" . \\n',\n",
       "  \" The game began development in 2010 , carrying over a large portion of the work done on Valkyria Chronicles II . While it retained the standard features of the series , it also underwent multiple adjustments , such as making the game more forgiving for series newcomers . Character designer Raita Honjou and composer Hitoshi Sakimoto both returned from previous entries , along with Valkyria Chronicles II director Takeshi Ozawa . A large team of writers handled the script . The game 's opening theme was sung by May 'n . \\n\"]}"
      ]
     },
     "execution_count": 6,
     "metadata": {},
     "output_type": "execute_result"
    }
   ],
   "source": [
    "raw_datasets['train'][0:5]"
   ]
  },
  {
   "cell_type": "code",
   "execution_count": 7,
   "id": "89a79535-15e7-464f-9bc7-946f76d463ad",
   "metadata": {},
   "outputs": [],
   "source": [
    "if args.config_name:\n",
    "    config = AutoConfig.from_pretrained(args.config_name)\n",
    "elif args.model_name_or_path:\n",
    "    config = AutoConfig.from_pretrained(args.model_name_or_path)\n",
    "#    else:\n",
    "#        config = CONFIG_MAPPING[args.model_type]()\n",
    "#        logger.warning(\"You are instantiating a new config instance from scratch.\")\n",
    "\n",
    "if args.tokenizer_name:\n",
    "    tokenizer = AutoTokenizer.from_pretrained(args.tokenizer_name, use_fast=not args.use_slow_tokenizer)\n",
    "elif args.model_name_or_path:\n",
    "    tokenizer = AutoTokenizer.from_pretrained(args.model_name_or_path, use_fast=not args.use_slow_tokenizer)\n",
    "else:\n",
    "    raise ValueError(\n",
    "        \"You are instantiating a new tokenizer from scratch. This is not supported by this script.\"\n",
    "        \"You can do it from another script, save it, and load it from here, using --tokenizer_name.\"\n",
    "    )\n",
    "\n",
    "if args.model_name_or_path:\n",
    "    model = AutoModelForCausalLM.from_pretrained(\n",
    "        args.model_name_or_path,\n",
    "        from_tf=bool(\".ckpt\" in args.model_name_or_path),\n",
    "        config=config,\n",
    "    )\n",
    "else:\n",
    "    logger.info(\"Training new model from scratch\")\n",
    "    model = AutoModelForCausalLM.from_config(config)\n",
    "\n",
    "# model.resize_token_embeddings(len(tokenizer))\n",
    "# model_ref = copy.deepcopy(model)"
   ]
  },
  {
   "cell_type": "code",
   "execution_count": 8,
   "id": "522bc6ed-6026-44a5-89ce-b3263f9c773a",
   "metadata": {},
   "outputs": [
    {
     "data": {
      "text/plain": [
       "Embedding(50259, 768)"
      ]
     },
     "execution_count": 8,
     "metadata": {},
     "output_type": "execute_result"
    }
   ],
   "source": [
    "# Create New config\n",
    "new_special_tokens = [\"<|/pv|>\", \"<|pv|>\"]\n",
    "tokenizer.pad_token = tokenizer.eos_token\n",
    "tokenizer.add_special_tokens({\"additional_special_tokens\": new_special_tokens})\n",
    "model.resize_token_embeddings(len(tokenizer))"
   ]
  },
  {
   "cell_type": "code",
   "execution_count": 9,
   "id": "36494edd-9701-4abc-bf21-78d2898b8d58",
   "metadata": {},
   "outputs": [],
   "source": [
    "def gen_canary(canary_len,tokenizer):\n",
    "    raw_sample = random.choices([str(i) for i in range(10)], k=canary_len)\n",
    "    raw_sample = \" \".join(raw_sample)\n",
    "    \n",
    "    tokenized = tokenizer.tokenize(raw_sample)\n",
    "    ids = tokenizer.convert_tokens_to_ids(tokenized)\n",
    "    assert len(ids) == canary_len\n",
    "    \n",
    "    raw_sample = \"the secret number is \" + raw_sample\n",
    "    toked =  tokenizer(raw_sample)\n",
    "    toked['labels'] = toked['input_ids'].copy()\n",
    "    return raw_sample, toked"
   ]
  },
  {
   "cell_type": "code",
   "execution_count": 10,
   "id": "39c30129-d433-4a1f-a24a-7d3edc747c91",
   "metadata": {},
   "outputs": [
    {
     "name": "stderr",
     "output_type": "stream",
     "text": [
      "Loading cached shuffled indices for dataset at /home/todsavadt/.cache/huggingface/datasets/wikitext/wikitext-2-raw-v1/1.0.0/a241db52902eaf2c6aa732210bead40c090019a499ceb13bcbfa3f8ab646a126/cache-15d97228463ce8de.arrow\n"
     ]
    },
    {
     "name": "stdout",
     "output_type": "stream",
     "text": [
      "before canary len  36718\n",
      "after canary len  36768\n",
      "5000\n"
     ]
    }
   ],
   "source": [
    "if args.add_canary:    \n",
    "    if 'ptb' in args.dataset_name:\n",
    "        dict_key = 'sentence'\n",
    "    else:\n",
    "        dict_key='text'\n",
    "    print(\"before canary len \", len(raw_datasets['train'][dict_key]))\n",
    "    canary, canary_ids = gen_canary(args.canary_len, tokenizer)\n",
    "    for j in range(args.canary_rep):\n",
    "        raw_datasets['train']=raw_datasets['train'].add_item({dict_key:canary})\n",
    "\n",
    "    raw_datasets['train'] = raw_datasets['train'].shuffle(seed=args.seed)\n",
    "    print(\"after canary len \", len(raw_datasets['train'][dict_key]))\n",
    "    # save the canaries in csv\n",
    "\n",
    "    file = open(f'./{directory}/canaries.txt', 'w+')\n",
    "    file.write(canary)\n",
    "    file.write('\\n')\n",
    "    file.close()\n",
    "\n",
    "    file = open(f'./{directory}/fitting_canaries.txt', 'w+')\n",
    "    \n",
    "    fitting_canaries_ids = []\n",
    "    for i in range(5000):\n",
    "        fit , fit_ids = gen_canary(args.canary_len,tokenizer)\n",
    "        if fit != canary:\n",
    "            fitting_canaries_ids.append(fit_ids)\n",
    "            file.write(fit)\n",
    "            file.write('\\n')\n",
    "    print(len(fitting_canaries_ids))"
   ]
  },
  {
   "cell_type": "code",
   "execution_count": 11,
   "id": "67c23447-2213-492d-81e7-dc56dd861171",
   "metadata": {},
   "outputs": [],
   "source": [
    "import spacy\n",
    "NLP = spacy.load(\"en_core_web_sm\")\n",
    "\n",
    "MASK_TOKEN = \"<MASK>\"\n",
    "\n",
    "# can be found here, https://github.com/explosion/spaCy/blob/master/spacy/glossary.py\n",
    "ALL_TYPES = (\n",
    "    \"CARDINAL\",\n",
    "    \"DATE\",\n",
    "    \"EVENT\",\n",
    "    \"FAC\",\n",
    "    \"GPE\",\n",
    "    \"LANGUAGE\",\n",
    "    \"LAW\",\n",
    "    \"LOC\",\n",
    "    \"MONEY\",\n",
    "    \"NORP\",\n",
    "    \"ORDINAL\",\n",
    "    \"ORG\",\n",
    "    \"PERCENT\",\n",
    "    \"PERSON\",\n",
    "    \"PRODUCT\",\n",
    "    \"QUANTITY\",\n",
    "    \"TIME\",\n",
    "    \"WORK_OF_ART\",\n",
    ")\n",
    "\n",
    "len(ALL_TYPES)\n",
    "\n",
    "def get_spacy_tokens_and_doc(line):\n",
    "    doc = NLP(line)\n",
    "    spacy_tokens = [x.text for x in doc]\n",
    "    return spacy_tokens, doc\n",
    "    \n",
    "def get_special_tokens(special_token, use_single_mask_token=True):\n",
    "    special_token = special_token.upper()\n",
    "    if use_single_mask_token:\n",
    "        return MASK_TOKEN\n",
    "    return SPECIAL_TOKENS_MAP[special_token]\n",
    "    \n",
    "def delex_line(line):\n",
    "    entity_types = ALL_TYPES\n",
    "    if line.endswith(\"\\n\"):\n",
    "        endswith_new_line = True\n",
    "        line = line[:-1]\n",
    "        assert not line.endswith(\"\\n\"), \"line still ends with \\n\"\n",
    "    else:\n",
    "        endswith_new_line = False\n",
    "    _, doc = get_spacy_tokens_and_doc(line)\n",
    "    words = [tok.text for tok in doc]\n",
    "    spaces = [True if tok.whitespace_ else False for tok in doc]\n",
    "    \n",
    "    # print(spaces)\n",
    "    for i, x in enumerate(doc):\n",
    "        if x.ent_type_ in entity_types:\n",
    "            # named entity\n",
    "            words[i] = get_special_tokens(x.ent_type_)\n",
    "            need_to_add = True\n",
    "    total = len(doc)\n",
    "\n",
    "    # rejoin them\n",
    "    doc2 = spacy.tokens.doc.Doc(NLP.vocab, words=words, spaces=spaces)\n",
    "    return_text = doc2.text\n",
    "    if endswith_new_line:\n",
    "        return_text = return_text + \"\\n\"\n",
    "    return return_text\n",
    "# [x for x in a for a in b]"
   ]
  },
  {
   "cell_type": "code",
   "execution_count": 12,
   "id": "81838db8-344b-4ed9-bb29-b6eb7424986d",
   "metadata": {},
   "outputs": [
    {
     "data": {
      "text/plain": [
       "{'text': ['',\n",
       "  '',\n",
       "  ' The <MASK> publication to address cytogenetics and prognosis was the <MASK> trial of <MASK> : \\n',\n",
       "  ' <MASK> <MASK> <MASK> <MASK> Issue <MASK> , <MASK> \\n',\n",
       "  ' <MASK> <MASK> <MASK> ( Gray ) – coastal <MASK> to coastal and <MASK> <MASK> California \\n']}"
      ]
     },
     "execution_count": 12,
     "metadata": {},
     "output_type": "execute_result"
    }
   ],
   "source": [
    "import pickle\n",
    "\n",
    "file_path = \"redacted_wikitext.pkl\"\n",
    "# # Save data dictionary to a file using pickle\n",
    "# with open(file_path, \"wb\") as file:\n",
    "#     pickle.dump(raw_redacted_datasets, file)\n",
    "\n",
    "# Load data dictionary from the pickle file\n",
    "with open(file_path, \"rb\") as file:\n",
    "    raw_redacted_datasets = pickle.load(file)\n",
    "\n",
    "raw_redacted_datasets['train'][0:5]"
   ]
  },
  {
   "cell_type": "code",
   "execution_count": 13,
   "id": "d3ce15eb-350d-41f7-a2fa-95c860c03389",
   "metadata": {},
   "outputs": [],
   "source": [
    "# original_list = [\"I am Gun\", \"I am Champ\", \"I am Sea\"]\n",
    "def add_private_token(original_list):\n",
    "    modified_list = []\n",
    "    for item in original_list:\n",
    "        if len(item) != 0:\n",
    "            modified_item = \"<|pv|> \" + item + \" <|/pv|>\"\n",
    "        else:\n",
    "            modified_item = item\n",
    "        modified_list.append(modified_item)\n",
    "    return modified_list\n",
    "\n",
    "raw_redacted_datasets_train_private_token = add_private_token(raw_redacted_datasets['train']['text'])\n",
    "raw_redacted_datasets_evaluation_private_token = add_private_token(raw_redacted_datasets['validation']['text'])\n",
    "raw_redacted_datasets_test_private_token = add_private_token(raw_redacted_datasets['test']['text'])"
   ]
  },
  {
   "cell_type": "code",
   "execution_count": 14,
   "id": "12e86aa6-c135-4f71-a0ee-f53cb384a9b9",
   "metadata": {},
   "outputs": [],
   "source": [
    "from datasets import Dataset, DatasetDict\n",
    "\n",
    "# Convert the list to a dataset\n",
    "redact_train_dataset_private = Dataset.from_dict({\"text\": raw_redacted_datasets_train_private_token})\n",
    "redact_validation_dataset_private = Dataset.from_dict({\"text\": raw_redacted_datasets_evaluation_private_token})\n",
    "redact_test_dataset_private = Dataset.from_dict({\"text\": raw_redacted_datasets_test_private_token})\n",
    "\n",
    "# Create a DatasetDict and add the dataset to it\n",
    "raw_redacted_datasets_private = DatasetDict({\"train\": redact_train_dataset_private,\n",
    "                            \"validation\": redact_validation_dataset_private,\n",
    "                            \"test\": redact_test_dataset_private})"
   ]
  },
  {
   "cell_type": "code",
   "execution_count": 15,
   "id": "1b9741df-2d20-4d98-9ff5-7de896aaa830",
   "metadata": {},
   "outputs": [
    {
     "data": {
      "text/plain": [
       "{'text': ['',\n",
       "  '',\n",
       "  '<|pv|>  The <MASK> publication to address cytogenetics and prognosis was the <MASK> trial of <MASK> : \\n <|/pv|>',\n",
       "  '<|pv|>  <MASK> <MASK> <MASK> <MASK> Issue <MASK> , <MASK> \\n <|/pv|>',\n",
       "  '<|pv|>  <MASK> <MASK> <MASK> ( Gray ) – coastal <MASK> to coastal and <MASK> <MASK> California \\n <|/pv|>']}"
      ]
     },
     "execution_count": 15,
     "metadata": {},
     "output_type": "execute_result"
    }
   ],
   "source": [
    "raw_redacted_datasets_private['train'][0:5]"
   ]
  },
  {
   "cell_type": "code",
   "execution_count": 16,
   "id": "1d2d05fb-65a1-44fb-a5ef-a795cb18b2c0",
   "metadata": {},
   "outputs": [
    {
     "data": {
      "text/plain": [
       "DatasetDict({\n",
       "    train: Dataset({\n",
       "        features: ['text'],\n",
       "        num_rows: 36768\n",
       "    })\n",
       "    validation: Dataset({\n",
       "        features: ['text'],\n",
       "        num_rows: 3760\n",
       "    })\n",
       "    test: Dataset({\n",
       "        features: ['text'],\n",
       "        num_rows: 4358\n",
       "    })\n",
       "})"
      ]
     },
     "execution_count": 16,
     "metadata": {},
     "output_type": "execute_result"
    }
   ],
   "source": [
    "import pickle\n",
    "\n",
    "file_path = \"raw_redacted_datasets_private_wikitext.pkl\"\n",
    "# Save data dictionary to a file using pickle\n",
    "# with open(file_path, \"wb\") as file:\n",
    "#     pickle.dump(raw_redacted_datasets_private, file)\n",
    "\n",
    "# Load data dictionary from the pickle file\n",
    "with open(file_path, \"rb\") as file:\n",
    "    raw_redacted_datasets_private = pickle.load(file)\n",
    "\n",
    "raw_redacted_datasets_private"
   ]
  },
  {
   "cell_type": "code",
   "execution_count": 17,
   "id": "0b2ed30e-0eff-4627-95ac-71cd5060da3b",
   "metadata": {},
   "outputs": [],
   "source": [
    "train_private_token = [f\"{item1} {item2}\" for item1, item2 in zip(raw_redacted_datasets_private['train']['text'], raw_datasets['train']['text'])]\n",
    "validation_private_token = [f\"{item1} {item2}\" for item1, item2 in zip(raw_redacted_datasets_private['validation']['text'], raw_datasets['validation']['text'])]\n",
    "test_private_token = [f\"{item1} {item2}\" for item1, item2 in zip(raw_redacted_datasets_private['test']['text'], raw_datasets['test']['text'])]"
   ]
  },
  {
   "cell_type": "code",
   "execution_count": 18,
   "id": "d9db03be-0b8a-4da0-b332-759aad2113c3",
   "metadata": {},
   "outputs": [
    {
     "data": {
      "text/plain": [
       "DatasetDict({\n",
       "    train: Dataset({\n",
       "        features: ['text', 'private'],\n",
       "        num_rows: 36768\n",
       "    })\n",
       "    validation: Dataset({\n",
       "        features: ['text', 'private'],\n",
       "        num_rows: 3760\n",
       "    })\n",
       "    test: Dataset({\n",
       "        features: ['text', 'private'],\n",
       "        num_rows: 4358\n",
       "    })\n",
       "})"
      ]
     },
     "execution_count": 18,
     "metadata": {},
     "output_type": "execute_result"
    }
   ],
   "source": [
    "# Create new dictionaries with both 'text' and 'labels' features\n",
    "new_train_dict = {\n",
    "    \"text\": raw_datasets[\"train\"][\"text\"],\n",
    "    \"private\": train_private_token,\n",
    "}\n",
    "new_validation_dict = {\n",
    "    \"text\": raw_datasets[\"validation\"][\"text\"],\n",
    "    \"private\": validation_private_token,\n",
    "}\n",
    "new_test_dict = {\n",
    "    \"text\": raw_datasets[\"test\"][\"text\"],\n",
    "    \"private\": test_private_token,\n",
    "}\n",
    "\n",
    "# Create a new DatasetDict with the additional 'labels' feature\n",
    "new_dataset = DatasetDict({\n",
    "    \"train\": Dataset.from_dict(new_train_dict),\n",
    "    \"validation\": Dataset.from_dict(new_validation_dict),\n",
    "    \"test\": Dataset.from_dict(new_test_dict),\n",
    "})\n",
    "\n",
    "new_dataset"
   ]
  },
  {
   "cell_type": "code",
   "execution_count": 19,
   "id": "6ae9abd1-73a7-4e1c-a19d-9cc7419de83f",
   "metadata": {},
   "outputs": [
    {
     "data": {
      "text/plain": [
       "[' ',\n",
       " ' ',\n",
       " '<|pv|>  The <MASK> publication to address cytogenetics and prognosis was the <MASK> trial of <MASK> : \\n <|/pv|>  The first publication to address cytogenetics and prognosis was the MRC trial of 1998 : \\n',\n",
       " '<|pv|>  <MASK> <MASK> <MASK> <MASK> Issue <MASK> , <MASK> \\n <|/pv|>  2nd & 5th Detail Issue Depots , RASC \\n',\n",
       " '<|pv|>  <MASK> <MASK> <MASK> ( Gray ) – coastal <MASK> to coastal and <MASK> <MASK> California \\n <|/pv|>  L. c. californicus ( Gray ) – coastal Oregon to coastal and Central Valley California \\n']"
      ]
     },
     "execution_count": 19,
     "metadata": {},
     "output_type": "execute_result"
    }
   ],
   "source": [
    "new_dataset['train']['private'][:5]"
   ]
  },
  {
   "cell_type": "code",
   "execution_count": 20,
   "id": "487ec2d0-ab86-49c3-81cc-00e4e659577f",
   "metadata": {},
   "outputs": [
    {
     "name": "stderr",
     "output_type": "stream",
     "text": [
      "                                                                                            \r"
     ]
    }
   ],
   "source": [
    "# Preprocessing the datasets.\n",
    "# First we tokenize all the texts.\n",
    "column_names = raw_datasets[\"train\"].column_names\n",
    "text_column_name = \"text\" if \"text\" in column_names else column_names[0]\n",
    "max_length = 512\n",
    "\n",
    "def tokenize_function(examples):\n",
    "    result_label =  tokenizer(\n",
    "        examples[\"text\"], \n",
    "        padding='max_length', \n",
    "        truncation=True, \n",
    "        max_length=max_length)\n",
    "\n",
    "    result =  tokenizer(\n",
    "        examples[\"private\"], \n",
    "        padding='max_length', \n",
    "        truncation=True, \n",
    "        max_length=max_length)\n",
    "    \n",
    "    result['labels'] = result_label['input_ids'].copy()\n",
    "    return result\n",
    "\n",
    "with accelerator.main_process_first():\n",
    "    tokenized_datasets = new_dataset.map(\n",
    "        tokenize_function,\n",
    "        batched=True,\n",
    "        num_proc=args.preprocessing_num_workers,\n",
    "        remove_columns=column_names,\n",
    "        load_from_cache_file=not args.overwrite_cache,\n",
    "        desc=\"Running tokenizer on dataset\",\n",
    "    )\n",
    "\n",
    "train_dataset = tokenized_datasets[\"train\"]\n",
    "eval_dataset = tokenized_datasets[\"validation\"]"
   ]
  },
  {
   "cell_type": "code",
   "execution_count": 21,
   "id": "8d8c0022-3eea-4cd4-84f9-08e5d621cbb0",
   "metadata": {},
   "outputs": [],
   "source": [
    "# Log a few random samples from the training set:\n",
    "#for index in random.sample(range(len(train_dataset)), 3):\n",
    "#    logger.info(f\"Sample {index} of the training set: {train_dataset[index]}.\")\n",
    "# DataLoaders creation:\n",
    "train_dataloader = DataLoader(\n",
    "    train_dataset, shuffle=True, collate_fn=default_data_collator, batch_size=args.per_device_train_batch_size\n",
    ")\n",
    "eval_dataloader = DataLoader(\n",
    "    eval_dataset, collate_fn=default_data_collator, batch_size=args.per_device_eval_batch_size\n",
    ")"
   ]
  },
  {
   "cell_type": "code",
   "execution_count": 22,
   "id": "6a47e2b1-0486-488c-a1ed-2e3e32af77b0",
   "metadata": {},
   "outputs": [],
   "source": [
    "# #checking chucking\n",
    "# for i in train_dataloader:\n",
    "#     print(i['input_ids'].shape, i['labels'].shape)\n",
    "#     # print(i['input_ids'][0], i['labels'][0])\n",
    "#     break\n",
    "# for i in eval_dataloader:\n",
    "#     print(i['input_ids'].shape, i['labels'].shape)\n",
    "#     break"
   ]
  },
  {
   "cell_type": "code",
   "execution_count": 23,
   "id": "eb3358d7-f474-4eb2-b15f-f6954b71bfd5",
   "metadata": {},
   "outputs": [],
   "source": [
    "# #checking chucking\n",
    "# for idx,i in enumerate(train_dataloader):\n",
    "#     print(i['input_ids'].shape, i['labels'].shape)\n",
    "#     output = model(**i)\n",
    "#     print(output.loss)\n",
    "#     if idx == 2:\n",
    "#         break"
   ]
  },
  {
   "cell_type": "code",
   "execution_count": 24,
   "id": "9fcaf89f-a39c-4282-b729-9a148798c035",
   "metadata": {},
   "outputs": [
    {
     "name": "stdout",
     "output_type": "stream",
     "text": [
      "model_params (million) 124.441344\n"
     ]
    }
   ],
   "source": [
    "def count_parameters(model):\n",
    "    return sum(p.numel() for p in model.parameters() if p.requires_grad)\n",
    "\n",
    "#print(model.lm_head)    \n",
    "if accelerator.is_local_main_process:\n",
    "    print(\"model_params (million)\", count_parameters(model)/1000000)"
   ]
  },
  {
   "cell_type": "code",
   "execution_count": 25,
   "id": "ecd941d8-b375-40dc-a8f6-1ce2f194eaa4",
   "metadata": {},
   "outputs": [
    {
     "name": "stderr",
     "output_type": "stream",
     "text": [
      "/usr/local/lib/python3.10/dist-packages/transformers/optimization.py:391: FutureWarning: This implementation of AdamW is deprecated and will be removed in a future version. Use the PyTorch implementation torch.optim.AdamW instead, or set `no_deprecation_warning=True` to disable this warning\n",
      "  warnings.warn(\n"
     ]
    }
   ],
   "source": [
    " # Split weights in two groups, one with weight decay and the other not.\n",
    "no_decay = [\"bias\", \"LayerNorm.weight\"]\n",
    "optimizer_grouped_parameters = [\n",
    "    {\n",
    "        \"params\": [p for n, p in model.named_parameters() if not any(nd in n for nd in no_decay)],\n",
    "        \"weight_decay\": args.weight_decay,\n",
    "    },\n",
    "    {\n",
    "        \"params\": [p for n, p in model.named_parameters() if any(nd in n for nd in no_decay)],\n",
    "        \"weight_decay\": 0.0,\n",
    "    },\n",
    "]\n",
    "optimizer = AdamW(optimizer_grouped_parameters, lr=args.learning_rate)"
   ]
  },
  {
   "cell_type": "code",
   "execution_count": 26,
   "id": "bffeb061-628d-4233-9f2f-220137ca0024",
   "metadata": {},
   "outputs": [],
   "source": [
    "# Prepare everything with our `accelerator`.\n",
    "model, optimizer, train_dataloader, eval_dataloader = accelerator.prepare(\n",
    "    model, optimizer, train_dataloader, eval_dataloader\n",
    ")\n",
    "\n",
    "# model_ref = accelerator.prepare(\n",
    "#     model_ref)"
   ]
  },
  {
   "cell_type": "code",
   "execution_count": 27,
   "id": "a5aa81e9-ceea-447a-a8cb-dac9918c117f",
   "metadata": {},
   "outputs": [],
   "source": [
    "# On TPU, the tie weights in our model have been disconnected, so we need to restore the ties.\n",
    "if accelerator.distributed_type == DistributedType.TPU:\n",
    "    model.tie_weights()\n",
    "\n",
    "# Note -> the training dataloader needs to be prepared before we grab his length below (cause its length will be\n",
    "# shorter in multiprocess)\n",
    "\n",
    "# Scheduler and math around the number of training steps.\n",
    "num_update_steps_per_epoch = math.ceil(len(train_dataloader) / args.gradient_accumulation_steps)\n",
    "\n",
    "if args.max_train_steps is None:\n",
    "    args.max_train_steps = args.num_train_epochs * num_update_steps_per_epoch\n",
    "else:\n",
    "    args.num_train_epochs = math.ceil(args.max_train_steps / num_update_steps_per_epoch)\n",
    "\n",
    "lr_scheduler = get_scheduler(\n",
    "    name=args.lr_scheduler_type,\n",
    "    optimizer=optimizer,\n",
    "    num_warmup_steps=args.num_warmup_steps,\n",
    "    num_training_steps=args.max_train_steps,\n",
    ")\n",
    "\n",
    "# Train!\n",
    "total_batch_size = args.per_device_train_batch_size * accelerator.num_processes * args.gradient_accumulation_steps"
   ]
  },
  {
   "cell_type": "code",
   "execution_count": 28,
   "id": "5604a08f-6c36-4a4d-a2b2-d23ae0ea1dbf",
   "metadata": {},
   "outputs": [],
   "source": [
    "def get_exposure(fitting, main):\n",
    "\n",
    "    fitting_params = skewnorm.fit(fitting)\n",
    "    ks = kstest(fitting, 'skewnorm', fitting_params)\n",
    "\n",
    "    cdf = skewnorm.cdf(main, fitting_params[0], fitting_params[1], fitting_params[2])\n",
    "\n",
    "    if cdf == 0.0:\n",
    "        exposure = 0.0\n",
    "    else:\n",
    "        exposure = -1.0*np.log2(cdf)\n",
    "\n",
    "    return exposure\n",
    "\n",
    "def get_fit_canary_loss(model,fitting_id, main_id):\n",
    "    loss_list = []\n",
    "    for k, v in main_id.items():\n",
    "            main_id[k] = torch.tensor(v).cuda()\n",
    "                  \n",
    "    loss_main = np.exp(model(**main_id)['loss'].item())\n",
    "\n",
    "    for sample in fitting_id:\n",
    "        for k, v in sample.items():\n",
    "            sample[k] = torch.tensor(v).cuda()\n",
    "        \n",
    "        output = model(**sample)\n",
    "        loss_list.append(np.exp(output.loss.item()))\n",
    "\n",
    "    return loss_main, loss_list\n",
    "\n",
    "def gen_canary(canary_len, tokenizer):\n",
    "    raw_sample = random.choices([str(i) for i in range(10)], k=canary_len)\n",
    "    raw_sample = \" \".join(raw_sample)\n",
    "    \n",
    "    tokenized = tokenizer.tokenize(raw_sample)\n",
    "    ids = tokenizer.convert_tokens_to_ids(tokenized)\n",
    "    assert len(ids) == canary_len\n",
    "    \n",
    "    raw_sample = \"the secret number is \" + raw_sample\n",
    "    toked =  tokenizer(raw_sample)\n",
    "    toked['labels'] = toked['input_ids'].copy()\n",
    "    return raw_sample, toked"
   ]
  },
  {
   "cell_type": "code",
   "execution_count": 29,
   "id": "7ecd56a6-5f36-4738-8429-484d4d059ce4",
   "metadata": {},
   "outputs": [
    {
     "name": "stdout",
     "output_type": "stream",
     "text": [
      "***** Running training *****\n",
      "  Num examples = 36768\n",
      "  Num Epochs = 2\n",
      "  Instantaneous batch size per device = 16\n",
      "  Total train batch size (w. parallel, distributed & accumulation) = 128\n",
      "  Gradient Accumulation steps = 8\n",
      "  Total optimization steps = 576\n"
     ]
    }
   ],
   "source": [
    "print(\"***** Running training *****\")\n",
    "print(f\"  Num examples = {len(train_dataset)}\")\n",
    "print(f\"  Num Epochs = {args.num_train_epochs}\")\n",
    "print(f\"  Instantaneous batch size per device = {args.per_device_train_batch_size}\")\n",
    "print(f\"  Total train batch size (w. parallel, distributed & accumulation) = {total_batch_size}\")\n",
    "print(f\"  Gradient Accumulation steps = {args.gradient_accumulation_steps}\")\n",
    "print(f\"  Total optimization steps = {args.max_train_steps}\")"
   ]
  },
  {
   "cell_type": "code",
   "execution_count": 30,
   "id": "1f1f4c9d-3d45-4547-a4a1-355ed4fdd6e0",
   "metadata": {},
   "outputs": [
    {
     "name": "stdout",
     "output_type": "stream",
     "text": [
      "training epoch 1\n"
     ]
    },
    {
     "name": "stderr",
     "output_type": "stream",
     "text": [
      "100%|██████████| 2298/2298 [21:58<00:00,  1.74it/s]\n"
     ]
    },
    {
     "name": "stdout",
     "output_type": "stream",
     "text": [
      "running canary eval\n",
      "Exposure : 0.7934975884451405\n"
     ]
    },
    {
     "name": "stderr",
     "output_type": "stream",
     "text": [
      "100%|██████████| 235/235 [00:47<00:00,  4.93it/s]\n"
     ]
    },
    {
     "name": "stdout",
     "output_type": "stream",
     "text": [
      "threshold is:  0.48656970262527466\n"
     ]
    },
    {
     "name": "stderr",
     "output_type": "stream",
     "text": [
      "100%|██████████| 2298/2298 [07:49<00:00,  4.89it/s]\n"
     ]
    },
    {
     "name": "stdout",
     "output_type": "stream",
     "text": [
      "saved model! epoch 0: perplexity: 2.8464896966846704\n",
      "perplexity : 2.8464896966846704 perplexity train : 2.7903746126593476\n",
      "training epoch 2\n"
     ]
    },
    {
     "name": "stderr",
     "output_type": "stream",
     "text": [
      "100%|█████████▉| 2288/2298 [21:58<00:05,  1.73it/s]\n",
      "/tmp/ipykernel_476571/1856995756.py:18: UserWarning: To copy construct from a tensor, it is recommended to use sourceTensor.clone().detach() or sourceTensor.clone().detach().requires_grad_(True), rather than torch.tensor(sourceTensor).\n",
      "  main_id[k] = torch.tensor(v).cuda()\n",
      "/tmp/ipykernel_476571/1856995756.py:24: UserWarning: To copy construct from a tensor, it is recommended to use sourceTensor.clone().detach() or sourceTensor.clone().detach().requires_grad_(True), rather than torch.tensor(sourceTensor).\n",
      "  sample[k] = torch.tensor(v).cuda()\n"
     ]
    },
    {
     "name": "stdout",
     "output_type": "stream",
     "text": [
      "running canary eval\n",
      "Exposure : 1.4352778399725394\n"
     ]
    },
    {
     "name": "stderr",
     "output_type": "stream",
     "text": [
      "100%|██████████| 235/235 [00:47<00:00,  4.94it/s]\n"
     ]
    },
    {
     "name": "stdout",
     "output_type": "stream",
     "text": [
      "threshold is:  0.4771879315376282\n"
     ]
    },
    {
     "name": "stderr",
     "output_type": "stream",
     "text": [
      "100%|██████████| 2298/2298 [07:49<00:00,  4.90it/s]\n"
     ]
    },
    {
     "name": "stdout",
     "output_type": "stream",
     "text": [
      "saved model! epoch 1: perplexity: 2.7983697031928787\n",
      "perplexity : 2.7983697031928787 perplexity train : 2.7406821364643257\n"
     ]
    }
   ],
   "source": [
    "# Only show the progress bar once on each machine.\n",
    "# progress_bar = tqdm(range(args.max_train_steps), disable=not accelerator.is_local_main_process)\n",
    "completed_steps = 0\n",
    "best_loss = 1000000\n",
    "best_val_perplexity = float(\"inf\")\n",
    "save_path = f'models/{model.__class__.__name__}_gpt2_prefix_ground_v2.pt'\n",
    "for epoch in range(args.num_train_epochs):\n",
    "    ##################################################################\n",
    "    # Train\n",
    "    ##################################################################\n",
    "    model.train()\n",
    "    if accelerator.is_local_main_process:\n",
    "        print(f\"training epoch {epoch+1}\")\n",
    "    for step, batch in enumerate(tqdm(train_dataloader)):\n",
    "        outputs = model(**batch)\n",
    "        loss = outputs.loss\n",
    "        loss = loss / args.gradient_accumulation_steps\n",
    "        accelerator.backward(loss)\n",
    "        if step % args.gradient_accumulation_steps == 0 or step == len(train_dataloader) - 1:\n",
    "            optimizer.step()\n",
    "            lr_scheduler.step()\n",
    "            optimizer.zero_grad()\n",
    "            # progress_bar.update(1)\n",
    "            completed_steps += 1\n",
    "            \n",
    "        if completed_steps >= args.max_train_steps:\n",
    "            break  \n",
    "            \n",
    "    ##################################################################\n",
    "    # Evaluation\n",
    "    ##################################################################\n",
    "    model.eval()\n",
    "    losses = []\n",
    "\n",
    "    if args.add_canary:\n",
    "        print(\"running canary eval\")\n",
    "        canary_loss, fitting_loss = get_fit_canary_loss(model, fitting_canaries_ids, canary_ids)        \n",
    "        exposure = get_exposure(fitting_loss, canary_loss)\n",
    "        print('Exposure :', exposure)\n",
    "        \n",
    "    for step, batch in enumerate(tqdm(eval_dataloader)):\n",
    "        with torch.no_grad():\n",
    "            outputs = model(**batch)\n",
    "            \n",
    "        loss = outputs.loss\n",
    "        losses.append(accelerator.gather(loss.repeat(args.per_device_eval_batch_size)))\n",
    "        \n",
    "    losses = torch.cat(losses)\n",
    "    losses = losses[: len(eval_dataset)]\n",
    "    sorted_loss = sorted(losses)\n",
    "    \n",
    "    threshold = sorted_loss[int(0.1*len(losses))]\n",
    "    if accelerator.is_local_main_process:\n",
    "        print(\"threshold is: \" , threshold.detach().item())\n",
    "    try:\n",
    "        perplexity = math.exp(torch.mean(losses))\n",
    "    except OverflowError:\n",
    "        perplexity = float(\"inf\")\n",
    "\n",
    "    ################################################    \n",
    "    #run threshold on training samples\n",
    "    losses = []\n",
    "    for step, batch in enumerate(tqdm(train_dataloader)):\n",
    "        with torch.no_grad():\n",
    "            outputs = model(**batch)\n",
    "            \n",
    "        loss = outputs.loss\n",
    "        losses.append(accelerator.gather(loss.repeat(args.per_device_train_batch_size)))\n",
    "          \n",
    "    accelerator.wait_for_everyone()\n",
    "    losses = torch.cat(losses)\n",
    "    losses = losses[: len(train_dataset)]\n",
    "    \n",
    "    try:\n",
    "        perplexity_train = math.exp(torch.mean(losses))\n",
    "    except OverflowError:\n",
    "        perplexity_train = float(\"inf\")\n",
    "\n",
    "    if perplexity < best_val_perplexity and save_path is not None:\n",
    "        best_val_perplexity = perplexity\n",
    "        \n",
    "        print(f\"saved model! epoch {epoch}: perplexity: {best_val_perplexity}\")\n",
    "        torch.save(model.state_dict(), save_path)\n",
    "\n",
    "    print(f\"perplexity : {perplexity} perplexity train : {perplexity_train}\")"
   ]
  },
  {
   "cell_type": "code",
   "execution_count": null,
   "id": "23e0fa43-f065-4dcf-a58f-ca341a619fc2",
   "metadata": {},
   "outputs": [],
   "source": []
  }
 ],
 "metadata": {
  "kernelspec": {
   "display_name": "Python 3 (ipykernel)",
   "language": "python",
   "name": "python3"
  },
  "language_info": {
   "codemirror_mode": {
    "name": "ipython",
    "version": 3
   },
   "file_extension": ".py",
   "mimetype": "text/x-python",
   "name": "python",
   "nbconvert_exporter": "python",
   "pygments_lexer": "ipython3",
   "version": "3.10.6"
  }
 },
 "nbformat": 4,
 "nbformat_minor": 5
}
