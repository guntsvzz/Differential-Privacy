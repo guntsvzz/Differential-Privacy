{
 "cells": [
  {
   "cell_type": "code",
   "execution_count": 2,
   "id": "5d35322f-a9b3-4cb7-936b-e80ef2844005",
   "metadata": {},
   "outputs": [],
   "source": [
    "import pandas as pd\n",
    "\n",
    "df = pd.read_csv(\"cleaned_data.csv\")"
   ]
  },
  {
   "cell_type": "code",
   "execution_count": 3,
   "id": "40bf5ca5-a962-4f01-84ab-f704399a2750",
   "metadata": {},
   "outputs": [
    {
     "data": {
      "text/html": [
       "<div>\n",
       "<style scoped>\n",
       "    .dataframe tbody tr th:only-of-type {\n",
       "        vertical-align: middle;\n",
       "    }\n",
       "\n",
       "    .dataframe tbody tr th {\n",
       "        vertical-align: top;\n",
       "    }\n",
       "\n",
       "    .dataframe thead th {\n",
       "        text-align: right;\n",
       "    }\n",
       "</style>\n",
       "<table border=\"1\" class=\"dataframe\">\n",
       "  <thead>\n",
       "    <tr style=\"text-align: right;\">\n",
       "      <th></th>\n",
       "      <th>subject</th>\n",
       "      <th>X-Folder</th>\n",
       "      <th>body</th>\n",
       "    </tr>\n",
       "  </thead>\n",
       "  <tbody>\n",
       "    <tr>\n",
       "      <th>0</th>\n",
       "      <td>Re:</td>\n",
       "      <td>'sent mail</td>\n",
       "      <td>Traveling to have a business meeting takes the...</td>\n",
       "    </tr>\n",
       "    <tr>\n",
       "      <th>1</th>\n",
       "      <td>Re: test</td>\n",
       "      <td>'sent mail</td>\n",
       "      <td>test successful.  way to go!!!</td>\n",
       "    </tr>\n",
       "    <tr>\n",
       "      <th>2</th>\n",
       "      <td>Re: Hello</td>\n",
       "      <td>'sent mail</td>\n",
       "      <td>Let's shoot for Tuesday at 11:45.</td>\n",
       "    </tr>\n",
       "    <tr>\n",
       "      <th>3</th>\n",
       "      <td>Re: Hello</td>\n",
       "      <td>'sent mail</td>\n",
       "      <td>Greg,\\n\\n How about either next Tuesday or Thu...</td>\n",
       "    </tr>\n",
       "    <tr>\n",
       "      <th>4</th>\n",
       "      <td>Re: PRC review - phone calls</td>\n",
       "      <td>'sent mail</td>\n",
       "      <td>any morning between 10 and 11:30</td>\n",
       "    </tr>\n",
       "  </tbody>\n",
       "</table>\n",
       "</div>"
      ],
      "text/plain": [
       "                        subject    X-Folder  \\\n",
       "0                           Re:  'sent mail   \n",
       "1                      Re: test  'sent mail   \n",
       "2                     Re: Hello  'sent mail   \n",
       "3                     Re: Hello  'sent mail   \n",
       "4  Re: PRC review - phone calls  'sent mail   \n",
       "\n",
       "                                                body  \n",
       "0  Traveling to have a business meeting takes the...  \n",
       "1                     test successful.  way to go!!!  \n",
       "2                Let's shoot for Tuesday at 11:45.    \n",
       "3  Greg,\\n\\n How about either next Tuesday or Thu...  \n",
       "4                   any morning between 10 and 11:30  "
      ]
     },
     "execution_count": 3,
     "metadata": {},
     "output_type": "execute_result"
    }
   ],
   "source": [
    "df.head()"
   ]
  },
  {
   "cell_type": "code",
   "execution_count": 4,
   "id": "f4a66592-5b30-4f65-a1db-739e19e8f2f7",
   "metadata": {},
   "outputs": [
    {
     "data": {
      "text/plain": [
       "(489236, 3)"
      ]
     },
     "execution_count": 4,
     "metadata": {},
     "output_type": "execute_result"
    }
   ],
   "source": [
    "df.shape"
   ]
  },
  {
   "cell_type": "code",
   "execution_count": 19,
   "id": "e74a75f9-338f-4c28-b84e-6b272e4e5b28",
   "metadata": {},
   "outputs": [
    {
     "data": {
      "text/plain": [
       "'---------------------- Forwarded by Phillip K Allen/HOU/ECT on 10/16/2000 \\n01:42 PM ---------------------------\\n\\n\\n\"Buckner, Buck\" <buck.buckner@honeywell.com> on 10/12/2000 01:12:21 PM\\nTo: \"\\'Pallen@Enron.com\\'\" <Pallen@Enron.com>\\ncc:  \\nSubject: FW: fixed forward or other Collar floor gas price terms\\n\\n\\nPhillip,\\n\\n> As discussed  during our phone conversation, In a Parallon 75 microturbine\\n> power generation deal for a national accounts customer, I am developing a\\n> proposal to sell power to customer at fixed or collar/floor price. To do\\n> so I need a corresponding term gas price for same. Microturbine is an\\n> onsite generation product developed by Honeywell to generate electricity\\n> on customer site (degen). using natural gas. In doing so,  I need your\\n> best fixed price forward gas price deal for 1, 3, 5, 7 and 10 years for\\n> annual/seasonal supply to microturbines to generate fixed kWh for\\n> customer. We have the opportunity to sell customer kWh \\'s using\\n> microturbine or sell them turbines themselves. kWh deal must have limited/\\n> no risk forward gas price to make deal work. Therein comes Sempra energy\\n> gas trading, truly you.\\n>\\n> We are proposing installing 180 - 240 units across a large number of\\n> stores (60-100) in San Diego.\\n> Store number varies because of installation hurdles face at small percent.\\n>\\n> For 6-8 hours a day  Microturbine run time:\\n> Gas requirement for 180 microturbines 227 - 302 MMcf per year\\n> Gas requirement for 240 microturbines 302 - 403 MMcf per year\\n>\\n> Gas will likely be consumed from May through September, during peak\\n> electric period.\\n> Gas price required: Burnertip price behind (LDC) San Diego Gas & Electric\\n> Need detail breakout of commodity and transport cost (firm or\\n> interruptible).\\n>\\n> Should you have additional questions, give me a call.\\n> Let me assure you, this is real deal!!\\n>\\n> Buck Buckner, P.E., MBA\\n> Manager, Business Development and Planning\\n> Big Box Retail Sales\\n> Honeywell Power Systems, Inc.\\n> 8725 Pan American Frwy\\n> Albuquerque, NM 87113\\n> 505-798-6424\\n> 505-798-6050x\\n> 505-220-4129\\n> 888/501-3145\\n> \\n'"
      ]
     },
     "execution_count": 19,
     "metadata": {},
     "output_type": "execute_result"
    }
   ],
   "source": [
    "df['body'][6]"
   ]
  },
  {
   "cell_type": "code",
   "execution_count": null,
   "id": "0bf0bfcd-ba76-48e8-9c36-533b5dec842c",
   "metadata": {},
   "outputs": [],
   "source": []
  }
 ],
 "metadata": {
  "kernelspec": {
   "display_name": "Python 3 (ipykernel)",
   "language": "python",
   "name": "python3"
  },
  "language_info": {
   "codemirror_mode": {
    "name": "ipython",
    "version": 3
   },
   "file_extension": ".py",
   "mimetype": "text/x-python",
   "name": "python",
   "nbconvert_exporter": "python",
   "pygments_lexer": "ipython3",
   "version": "3.10.6"
  }
 },
 "nbformat": 4,
 "nbformat_minor": 5
}
