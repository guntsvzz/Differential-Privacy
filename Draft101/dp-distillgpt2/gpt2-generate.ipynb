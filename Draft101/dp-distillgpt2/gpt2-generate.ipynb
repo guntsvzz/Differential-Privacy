{
 "cells": [
  {
   "cell_type": "code",
   "execution_count": 3,
   "id": "63eb21fa-a93d-4cb4-b72c-58fe2630192f",
   "metadata": {},
   "outputs": [],
   "source": [
    "import torch\n",
    "from transformers import (\n",
    "    CONFIG_MAPPING,\n",
    "    MODEL_MAPPING,\n",
    "    AdamW,\n",
    "    AutoConfig,\n",
    "    AutoModelForCausalLM,\n",
    "    AutoTokenizer,\n",
    "    default_data_collator\n",
    ")\n",
    "from itertools import chain\n",
    "\n",
    "# Load the trained model\n",
    "# model_path = 'dp-gpt2-clm-model.pth'\n",
    "\n",
    "model_checkpoint = \"gpt2\"\n",
    "config = AutoConfig.from_pretrained(model_checkpoint)\n",
    "# model = AutoModelForCausalLM.from_config(config)\n",
    "model_name_or_path = f'models/GPT2LMHeadModel_gpt2_memo.pt'\n",
    "model = AutoModelForCausalLM.from_pretrained(\n",
    "        model_name_or_path,\n",
    "        from_tf=bool(\".ckpt\" in model_name_or_path),\n",
    "        config=config,\n",
    "    )\n",
    "\n",
    "# model.load_state_dict(torch.load(save_path))\n",
    "model = model.eval()"
   ]
  },
  {
   "cell_type": "code",
   "execution_count": 4,
   "id": "6331b8df-9e84-4cb7-ab07-c5d92bb6e38e",
   "metadata": {},
   "outputs": [],
   "source": [
    "# Set the device to GPU if available\n",
    "device = torch.device('cuda' if torch.cuda.is_available() else 'cpu')\n",
    "model = model.to(device)\n",
    "\n",
    "# Set up the tokenizer\n",
    "tokenizer = AutoTokenizer.from_pretrained(model_checkpoint, use_fast=True)"
   ]
  },
  {
   "cell_type": "code",
   "execution_count": 5,
   "id": "69dee492-67cf-4991-b5c6-ba2085d99077",
   "metadata": {},
   "outputs": [],
   "source": [
    "def generate(prompt, model, tokenizer, device, seed, max_length=100, temperature=0.7):\n",
    "    input_ids = tokenizer.encode(prompt, add_special_tokens=True, return_tensors=\"pt\").to(device)\n",
    "    output = model.generate(input_ids, max_length=max_length, temperature=temperature, num_return_sequences=1)\n",
    "    generated_text = tokenizer.decode(output[0], skip_special_tokens=True)\n",
    "    return generated_text"
   ]
  },
  {
   "cell_type": "code",
   "execution_count": 8,
   "id": "6d7c35db-08a5-481c-8335-740e884986c4",
   "metadata": {},
   "outputs": [
    {
     "name": "stderr",
     "output_type": "stream",
     "text": [
      "The attention mask and the pad token id were not set. As a consequence, you may observe unexpected behavior. Please pass your input's `attention_mask` to obtain reliable results.\n",
      "Setting `pad_token_id` to `eos_token_id`:50256 for open-end generation.\n",
      "The attention mask and the pad token id were not set. As a consequence, you may observe unexpected behavior. Please pass your input's `attention_mask` to obtain reliable results.\n",
      "Setting `pad_token_id` to `eos_token_id`:50256 for open-end generation.\n",
      "The attention mask and the pad token id were not set. As a consequence, you may observe unexpected behavior. Please pass your input's `attention_mask` to obtain reliable results.\n",
      "Setting `pad_token_id` to `eos_token_id`:50256 for open-end generation.\n",
      "The attention mask and the pad token id were not set. As a consequence, you may observe unexpected behavior. Please pass your input's `attention_mask` to obtain reliable results.\n",
      "Setting `pad_token_id` to `eos_token_id`:50256 for open-end generation.\n"
     ]
    },
    {
     "name": "stdout",
     "output_type": "stream",
     "text": [
      "0.5\n",
      "the secret number is 0 @\n",
      "\n",
      "0.7\n",
      "the secret number is 0 @\n",
      "\n",
      "0.75\n",
      "the secret number is 0 @\n",
      "\n"
     ]
    },
    {
     "name": "stderr",
     "output_type": "stream",
     "text": [
      "The attention mask and the pad token id were not set. As a consequence, you may observe unexpected behavior. Please pass your input's `attention_mask` to obtain reliable results.\n",
      "Setting `pad_token_id` to `eos_token_id`:50256 for open-end generation.\n"
     ]
    },
    {
     "name": "stdout",
     "output_type": "stream",
     "text": [
      "0.8\n",
      "the secret number is 0 @\n",
      "\n",
      "1.0\n",
      "the secret number is 0 @\n",
      "\n"
     ]
    }
   ],
   "source": [
    "prompt = 'the secret number is'\n",
    "max_seq_len = 6\n",
    "seed = 0\n",
    "temperatures = [0.5, 0.7, 0.75, 0.8, 1.0]\n",
    "for temperature in temperatures:\n",
    "    generation = generate(prompt, model, tokenizer, device, seed, max_seq_len, temperature)\n",
    "    print(f'{str(temperature)}\\n{generation}\\n')"
   ]
  },
  {
   "cell_type": "code",
   "execution_count": null,
   "id": "8b3e1958-7ab6-404e-b720-688d6e26f6c9",
   "metadata": {},
   "outputs": [],
   "source": []
  }
 ],
 "metadata": {
  "kernelspec": {
   "display_name": "Python 3 (ipykernel)",
   "language": "python",
   "name": "python3"
  },
  "language_info": {
   "codemirror_mode": {
    "name": "ipython",
    "version": 3
   },
   "file_extension": ".py",
   "mimetype": "text/x-python",
   "name": "python",
   "nbconvert_exporter": "python",
   "pygments_lexer": "ipython3",
   "version": "3.10.6"
  }
 },
 "nbformat": 4,
 "nbformat_minor": 5
}
